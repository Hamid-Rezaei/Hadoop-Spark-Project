{
 "cells": [
  {
   "cell_type": "markdown",
   "id": "39a0525c",
   "metadata": {},
   "source": [
    "# **Getting Started With Spark using Python**"
   ]
  },
  {
   "cell_type": "markdown",
   "id": "6f74ba0c",
   "metadata": {},
   "source": [
    "![Spark Logo](http://spark.apache.org/images/spark-logo.png)"
   ]
  },
  {
   "cell_type": "markdown",
   "id": "5661ae9e",
   "metadata": {},
   "source": [
    "## How to run Jupyter notebook cell ?"
   ]
  },
  {
   "cell_type": "markdown",
   "id": "c593d153",
   "metadata": {},
   "source": [
    "Jupyter Notebooks are a powerful way to write and iterate on your Python code for data analysis.The Jupyter Notebook is organized into cells. Each cell can contain code, text, or visual elements. \n",
    "Rather than writing and re-writing an entire program, Jupyter Notebooks allow you to write code in separate blocks (or “cells”) and run each block of code individually. \n",
    "Then, if you need to make a change, you can go back and make an edit and rerun the program again, all in the same window.\n",
    "\n",
    "To select the cell, simply click on it. The selected cell will be highlighted, indicating that it is ready for execution.Once you have the desired cell selected, you have multiple options to run it: \n",
    "* Keyboard Shortcut: Press Shift + Enter on your keyboard to run the selected cell. This will execute the code or process the content within the cell and display the output below it. \n",
    "If the cell has any output, it will be shown just after running.\n",
    "* Toolbar: Look for the \"Run Cell\" button in the toolbar at the top of the Theia Lab interface. Clicking on this button will also execute the selected cell.\n",
    "After running the cell, you can see the output displayed below it. If the cell contains any code that produces visual outputs, such as plots or images, they will be shown in the output area.\n",
    "\n",
    "To run subsequent cells, repeat the same steps: select the next cell you want to execute and use the appropriate method mentioned above.\n",
    "Remember to execute cells in the correct order if there are dependencies between them.\n",
    "For example,if you have variables defined in a previous cell that are needed in the current cell, make sure to run the preceding cell first.\n"
   ]
  },
  {
   "cell_type": "markdown",
   "id": "86961c45",
   "metadata": {},
   "source": [
    "\n"
   ]
  },
  {
   "cell_type": "markdown",
   "id": "a823b78b",
   "metadata": {},
   "source": [
    "## Objectives"
   ]
  },
  {
   "cell_type": "markdown",
   "id": "c5798f8e",
   "metadata": {},
   "source": [
    "In this lab, we will go over the basics of Apache Spark and PySpark. We will start with creating the SparkContext and SparkSession. We then create a dataframe and demonstrate the basics dataframes and SparkSQL. Finally we create an RDD and apply some basic transformations and actions."
   ]
  },
  {
   "cell_type": "markdown",
   "id": "d40be736",
   "metadata": {},
   "source": [
    "## Setup"
   ]
  },
  {
   "cell_type": "code",
   "id": "d15aa443",
   "metadata": {
    "ExecuteTime": {
     "end_time": "2024-06-04T20:45:03.016422Z",
     "start_time": "2024-06-04T20:44:53.020438Z"
    }
   },
   "source": [
    "!pip install pyspark\n",
    "!pip install matplotlib\n",
    "!pip install pandas\n",
    "!pip install findspark\n",
    "!pip install pyarrow"
   ],
   "outputs": [
    {
     "name": "stdout",
     "output_type": "stream",
     "text": [
      "Requirement already satisfied: pyspark in /home/hamid/Myworkspace/cloud/hadoop-spark/hind/.venv/lib/python3.10/site-packages (3.5.1)\r\n",
      "Requirement already satisfied: py4j==0.10.9.7 in /home/hamid/Myworkspace/cloud/hadoop-spark/hind/.venv/lib/python3.10/site-packages (from pyspark) (0.10.9.7)\r\n",
      "Requirement already satisfied: matplotlib in /home/hamid/Myworkspace/cloud/hadoop-spark/hind/.venv/lib/python3.10/site-packages (3.9.0)\r\n",
      "Requirement already satisfied: contourpy>=1.0.1 in /home/hamid/Myworkspace/cloud/hadoop-spark/hind/.venv/lib/python3.10/site-packages (from matplotlib) (1.2.1)\r\n",
      "Requirement already satisfied: cycler>=0.10 in /home/hamid/Myworkspace/cloud/hadoop-spark/hind/.venv/lib/python3.10/site-packages (from matplotlib) (0.12.1)\r\n",
      "Requirement already satisfied: fonttools>=4.22.0 in /home/hamid/Myworkspace/cloud/hadoop-spark/hind/.venv/lib/python3.10/site-packages (from matplotlib) (4.53.0)\r\n",
      "Requirement already satisfied: kiwisolver>=1.3.1 in /home/hamid/Myworkspace/cloud/hadoop-spark/hind/.venv/lib/python3.10/site-packages (from matplotlib) (1.4.5)\r\n",
      "Requirement already satisfied: numpy>=1.23 in /home/hamid/Myworkspace/cloud/hadoop-spark/hind/.venv/lib/python3.10/site-packages (from matplotlib) (1.26.4)\r\n",
      "Requirement already satisfied: packaging>=20.0 in /home/hamid/Myworkspace/cloud/hadoop-spark/hind/.venv/lib/python3.10/site-packages (from matplotlib) (24.0)\r\n",
      "Requirement already satisfied: pillow>=8 in /home/hamid/Myworkspace/cloud/hadoop-spark/hind/.venv/lib/python3.10/site-packages (from matplotlib) (10.3.0)\r\n",
      "Requirement already satisfied: pyparsing>=2.3.1 in /home/hamid/Myworkspace/cloud/hadoop-spark/hind/.venv/lib/python3.10/site-packages (from matplotlib) (3.1.2)\r\n",
      "Requirement already satisfied: python-dateutil>=2.7 in /home/hamid/Myworkspace/cloud/hadoop-spark/hind/.venv/lib/python3.10/site-packages (from matplotlib) (2.9.0.post0)\r\n",
      "Requirement already satisfied: six>=1.5 in /home/hamid/Myworkspace/cloud/hadoop-spark/hind/.venv/lib/python3.10/site-packages (from python-dateutil>=2.7->matplotlib) (1.16.0)\r\n",
      "Requirement already satisfied: pandas in /home/hamid/Myworkspace/cloud/hadoop-spark/hind/.venv/lib/python3.10/site-packages (2.2.2)\r\n",
      "Requirement already satisfied: numpy>=1.22.4 in /home/hamid/Myworkspace/cloud/hadoop-spark/hind/.venv/lib/python3.10/site-packages (from pandas) (1.26.4)\r\n",
      "Requirement already satisfied: python-dateutil>=2.8.2 in /home/hamid/Myworkspace/cloud/hadoop-spark/hind/.venv/lib/python3.10/site-packages (from pandas) (2.9.0.post0)\r\n",
      "Requirement already satisfied: pytz>=2020.1 in /home/hamid/Myworkspace/cloud/hadoop-spark/hind/.venv/lib/python3.10/site-packages (from pandas) (2024.1)\r\n",
      "Requirement already satisfied: tzdata>=2022.7 in /home/hamid/Myworkspace/cloud/hadoop-spark/hind/.venv/lib/python3.10/site-packages (from pandas) (2024.1)\r\n",
      "Requirement already satisfied: six>=1.5 in /home/hamid/Myworkspace/cloud/hadoop-spark/hind/.venv/lib/python3.10/site-packages (from python-dateutil>=2.8.2->pandas) (1.16.0)\r\n",
      "Requirement already satisfied: findspark in /home/hamid/Myworkspace/cloud/hadoop-spark/hind/.venv/lib/python3.10/site-packages (2.0.1)\r\n",
      "Requirement already satisfied: pyarrow in /home/hamid/Myworkspace/cloud/hadoop-spark/hind/.venv/lib/python3.10/site-packages (16.1.0)\r\n",
      "Requirement already satisfied: numpy>=1.16.6 in /home/hamid/Myworkspace/cloud/hadoop-spark/hind/.venv/lib/python3.10/site-packages (from pyarrow) (1.26.4)\r\n"
     ]
    }
   ],
   "execution_count": 2
  },
  {
   "cell_type": "code",
   "id": "1e352b3c",
   "metadata": {
    "ExecuteTime": {
     "end_time": "2024-06-04T20:45:08.955490Z",
     "start_time": "2024-06-04T20:45:06.293007Z"
    }
   },
   "source": [
    "from pyspark import SparkContext, SparkConf\n",
    "from pyspark.sql import SparkSession\n",
    "from pyspark.sql.types import StructType, StructField, IntegerType, StringType, FloatType\n",
    "from pyspark.sql.functions import *\n",
    "import pandas as pd\n",
    "import matplotlib.pyplot as plt"
   ],
   "outputs": [],
   "execution_count": 3
  },
  {
   "cell_type": "markdown",
   "id": "8adc3807",
   "metadata": {},
   "source": [
    "## Spark Context and Spark Session"
   ]
  },
  {
   "cell_type": "markdown",
   "id": "69ba4d6e",
   "metadata": {},
   "source": [
    "You will create the Spark Context and initialize the Spark session needed for SparkSQL and DataFrames.\n",
    "SparkContext is the entry point for Spark applications and contains functions to create RDDs such as `parallelize()`. SparkSession is needed for SparkSQL and DataFrame operations.\n"
   ]
  },
  {
   "cell_type": "code",
   "id": "dbde5240",
   "metadata": {
    "ExecuteTime": {
     "end_time": "2024-06-03T09:11:58.932057Z",
     "start_time": "2024-06-03T09:11:45.892268Z"
    }
   },
   "source": [
    "# Creating a spark context class\n",
    "sc = SparkContext()\n",
    "\n",
    "# # Creating a spark session\n",
    "spark = SparkSession.builder.appName(\"pyspark-notebook\").master(\"spark://spark-master:7077\").config(\"spark.executor.memory\", \"1024m\").getOrCreate()"
   ],
   "outputs": [
    {
     "name": "stderr",
     "output_type": "stream",
     "text": [
      "24/06/03 12:41:47 WARN Utils: Your hostname, hamid resolves to a loopback address: 127.0.1.1; using 192.168.1.102 instead (on interface wlo1)\n",
      "24/06/03 12:41:47 WARN Utils: Set SPARK_LOCAL_IP if you need to bind to another address\n",
      "Setting default log level to \"WARN\".\n",
      "To adjust logging level use sc.setLogLevel(newLevel). For SparkR, use setLogLevel(newLevel).\n",
      "24/06/03 12:41:57 WARN NativeCodeLoader: Unable to load native-hadoop library for your platform... using builtin-java classes where applicable\n"
     ]
    }
   ],
   "execution_count": 5
  },
  {
   "cell_type": "code",
   "id": "0a85969f",
   "metadata": {
    "ExecuteTime": {
     "end_time": "2024-06-03T09:12:06.212957Z",
     "start_time": "2024-06-03T09:12:05.276927Z"
    }
   },
   "source": [
    "spark"
   ],
   "outputs": [
    {
     "data": {
      "text/plain": [
       "<pyspark.sql.session.SparkSession at 0x7ee9bd4c3670>"
      ],
      "text/html": [
       "\n",
       "            <div>\n",
       "                <p><b>SparkSession - in-memory</b></p>\n",
       "                \n",
       "        <div>\n",
       "            <p><b>SparkContext</b></p>\n",
       "\n",
       "            <p><a href=\"http://192.168.1.102:4040\">Spark UI</a></p>\n",
       "\n",
       "            <dl>\n",
       "              <dt>Version</dt>\n",
       "                <dd><code>v3.5.1</code></dd>\n",
       "              <dt>Master</dt>\n",
       "                <dd><code>local[*]</code></dd>\n",
       "              <dt>AppName</dt>\n",
       "                <dd><code>pyspark-shell</code></dd>\n",
       "            </dl>\n",
       "        </div>\n",
       "        \n",
       "            </div>\n",
       "        "
      ]
     },
     "execution_count": 6,
     "metadata": {},
     "output_type": "execute_result"
    }
   ],
   "execution_count": 6
  },
  {
   "cell_type": "markdown",
   "id": "8feb303a",
   "metadata": {},
   "source": [
    "#### Initialize Spark session\n",
    "To work with dataframes we just need to verify that the spark session instance has been created."
   ]
  },
  {
   "cell_type": "code",
   "id": "88a5d427",
   "metadata": {
    "ExecuteTime": {
     "end_time": "2024-06-03T09:12:09.181736Z",
     "start_time": "2024-06-03T09:12:09.178467Z"
    }
   },
   "source": [
    "if 'spark' in locals() and isinstance(spark, SparkSession):\n",
    "    print(\"SparkSession is active and ready to use.\")\n",
    "else:\n",
    "    print(\"SparkSession is not active. Please create a SparkSession.\")"
   ],
   "outputs": [
    {
     "name": "stdout",
     "output_type": "stream",
     "text": [
      "SparkSession is active and ready to use.\n"
     ]
    }
   ],
   "execution_count": 7
  },
  {
   "cell_type": "markdown",
   "id": "dc0c52f8",
   "metadata": {},
   "source": [
    "## Load and Display dataset"
   ]
  },
  {
   "cell_type": "markdown",
   "id": "785c763e",
   "metadata": {},
   "source": [
    "In this section, you will first read the CSV file into a Pandas DataFrame and then read it into a Spark DataFrame.\n",
    "Pandas is a library used for data manipulation and analysis. Pandas offers data structures and operations for creating and manipulating Data Series and DataFrame objects. Data can be imported from various data sources, e.g., Numpy arrays, Python dictionaries, and CSV files. Pandas allows you to manipulate, organize and display the data."
   ]
  },
  {
   "cell_type": "markdown",
   "id": "05b823b7",
   "metadata": {},
   "source": [
    "| colIndex | colName            | units/description                                                                             |\n",
    "|----------|--------------------|-----------------------------------------------------------------------------------------------|\n",
    "| [1]    | work_year          | The year in which the data was collected (2024).                                              |\n",
    "| [2]    | experience_level   | The experience level of the employee, categorized as SE (Senior Engineer), MI (Mid-Level Engineer), or EL (Entry-Level Engineer). |\n",
    "| [3]    | employment_type    | The type of employment, such as full-time (FT), part-time (PT), contract (C), or freelance (F).|\n",
    "| [4]    | job_title          | The title or role of the employee within the company, for example, AI Engineer.               |\n",
    "| [5]    | salary             | The salary of the employee in the local currency (e.g., 202,730 USD).                         |\n",
    "| [6]    | salary_currency    | The currency in which the salary is denominated (e.g., USD).                                  |\n",
    "| [7]    | salary_in_usd      | The salary converted to US dollars for standardization purposes (e.g., 202,730 USD).          |\n",
    "| [8]    | employee_residence | The country of residence of the employee.                                                     |\n",
    "| [9]    | remote_ratio       | The ratio indicating the extent of remote work allowed in the position (0 for no remote work, 100 for fully remote). |\n",
    "| [10]    | company_location   | The location of the company where the employee is employed.                                   |\n",
    "| [11]    | company_size       | The size of the company, often categorized by the number of employees (S for small, M for medium, L for large). |\n"
   ]
  },
  {
   "cell_type": "code",
   "id": "d319aaea",
   "metadata": {
    "ExecuteTime": {
     "end_time": "2024-06-03T09:12:14.001436Z",
     "start_time": "2024-06-03T09:12:13.978699Z"
    }
   },
   "source": [
    "# Read the file using `read_csv` function in pandas\n",
    "file_path = './data/salaries.csv'\n",
    "\n",
    "data_engineer_salary = pd.read_csv(file_path)\n"
   ],
   "outputs": [],
   "execution_count": 8
  },
  {
   "cell_type": "code",
   "id": "1e19183a",
   "metadata": {
    "ExecuteTime": {
     "end_time": "2024-06-03T09:12:16.102344Z",
     "start_time": "2024-06-03T09:12:16.022318Z"
    }
   },
   "source": [
    "# Display only the first 10 rows with styles\n",
    "styled_salaries = data_engineer_salary.head(10).style.set_properties(**{'text-align': 'left'}) \n",
    "styled_salaries.set_table_styles([{'selector': 'th', 'props': [('text-align', 'left')]}])\n",
    "\n",
    "# Display the styled DataFrame\n",
    "display(styled_salaries)"
   ],
   "outputs": [
    {
     "data": {
      "text/plain": [
       "<pandas.io.formats.style.Styler at 0x7ee982c34ee0>"
      ],
      "text/html": [
       "<style type=\"text/css\">\n",
       "#T_b3309 th {\n",
       "  text-align: left;\n",
       "}\n",
       "#T_b3309_row0_col0, #T_b3309_row0_col1, #T_b3309_row0_col2, #T_b3309_row0_col3, #T_b3309_row0_col4, #T_b3309_row0_col5, #T_b3309_row0_col6, #T_b3309_row0_col7, #T_b3309_row0_col8, #T_b3309_row0_col9, #T_b3309_row0_col10, #T_b3309_row1_col0, #T_b3309_row1_col1, #T_b3309_row1_col2, #T_b3309_row1_col3, #T_b3309_row1_col4, #T_b3309_row1_col5, #T_b3309_row1_col6, #T_b3309_row1_col7, #T_b3309_row1_col8, #T_b3309_row1_col9, #T_b3309_row1_col10, #T_b3309_row2_col0, #T_b3309_row2_col1, #T_b3309_row2_col2, #T_b3309_row2_col3, #T_b3309_row2_col4, #T_b3309_row2_col5, #T_b3309_row2_col6, #T_b3309_row2_col7, #T_b3309_row2_col8, #T_b3309_row2_col9, #T_b3309_row2_col10, #T_b3309_row3_col0, #T_b3309_row3_col1, #T_b3309_row3_col2, #T_b3309_row3_col3, #T_b3309_row3_col4, #T_b3309_row3_col5, #T_b3309_row3_col6, #T_b3309_row3_col7, #T_b3309_row3_col8, #T_b3309_row3_col9, #T_b3309_row3_col10, #T_b3309_row4_col0, #T_b3309_row4_col1, #T_b3309_row4_col2, #T_b3309_row4_col3, #T_b3309_row4_col4, #T_b3309_row4_col5, #T_b3309_row4_col6, #T_b3309_row4_col7, #T_b3309_row4_col8, #T_b3309_row4_col9, #T_b3309_row4_col10, #T_b3309_row5_col0, #T_b3309_row5_col1, #T_b3309_row5_col2, #T_b3309_row5_col3, #T_b3309_row5_col4, #T_b3309_row5_col5, #T_b3309_row5_col6, #T_b3309_row5_col7, #T_b3309_row5_col8, #T_b3309_row5_col9, #T_b3309_row5_col10, #T_b3309_row6_col0, #T_b3309_row6_col1, #T_b3309_row6_col2, #T_b3309_row6_col3, #T_b3309_row6_col4, #T_b3309_row6_col5, #T_b3309_row6_col6, #T_b3309_row6_col7, #T_b3309_row6_col8, #T_b3309_row6_col9, #T_b3309_row6_col10, #T_b3309_row7_col0, #T_b3309_row7_col1, #T_b3309_row7_col2, #T_b3309_row7_col3, #T_b3309_row7_col4, #T_b3309_row7_col5, #T_b3309_row7_col6, #T_b3309_row7_col7, #T_b3309_row7_col8, #T_b3309_row7_col9, #T_b3309_row7_col10, #T_b3309_row8_col0, #T_b3309_row8_col1, #T_b3309_row8_col2, #T_b3309_row8_col3, #T_b3309_row8_col4, #T_b3309_row8_col5, #T_b3309_row8_col6, #T_b3309_row8_col7, #T_b3309_row8_col8, #T_b3309_row8_col9, #T_b3309_row8_col10, #T_b3309_row9_col0, #T_b3309_row9_col1, #T_b3309_row9_col2, #T_b3309_row9_col3, #T_b3309_row9_col4, #T_b3309_row9_col5, #T_b3309_row9_col6, #T_b3309_row9_col7, #T_b3309_row9_col8, #T_b3309_row9_col9, #T_b3309_row9_col10 {\n",
       "  text-align: left;\n",
       "}\n",
       "</style>\n",
       "<table id=\"T_b3309\">\n",
       "  <thead>\n",
       "    <tr>\n",
       "      <th class=\"blank level0\" >&nbsp;</th>\n",
       "      <th id=\"T_b3309_level0_col0\" class=\"col_heading level0 col0\" >work_year</th>\n",
       "      <th id=\"T_b3309_level0_col1\" class=\"col_heading level0 col1\" >experience_level</th>\n",
       "      <th id=\"T_b3309_level0_col2\" class=\"col_heading level0 col2\" >employment_type</th>\n",
       "      <th id=\"T_b3309_level0_col3\" class=\"col_heading level0 col3\" >job_title</th>\n",
       "      <th id=\"T_b3309_level0_col4\" class=\"col_heading level0 col4\" >salary</th>\n",
       "      <th id=\"T_b3309_level0_col5\" class=\"col_heading level0 col5\" >salary_currency</th>\n",
       "      <th id=\"T_b3309_level0_col6\" class=\"col_heading level0 col6\" >salary_in_usd</th>\n",
       "      <th id=\"T_b3309_level0_col7\" class=\"col_heading level0 col7\" >employee_residence</th>\n",
       "      <th id=\"T_b3309_level0_col8\" class=\"col_heading level0 col8\" >remote_ratio</th>\n",
       "      <th id=\"T_b3309_level0_col9\" class=\"col_heading level0 col9\" >company_location</th>\n",
       "      <th id=\"T_b3309_level0_col10\" class=\"col_heading level0 col10\" >company_size</th>\n",
       "    </tr>\n",
       "  </thead>\n",
       "  <tbody>\n",
       "    <tr>\n",
       "      <th id=\"T_b3309_level0_row0\" class=\"row_heading level0 row0\" >0</th>\n",
       "      <td id=\"T_b3309_row0_col0\" class=\"data row0 col0\" >2024</td>\n",
       "      <td id=\"T_b3309_row0_col1\" class=\"data row0 col1\" >SE</td>\n",
       "      <td id=\"T_b3309_row0_col2\" class=\"data row0 col2\" >FT</td>\n",
       "      <td id=\"T_b3309_row0_col3\" class=\"data row0 col3\" >AI Engineer</td>\n",
       "      <td id=\"T_b3309_row0_col4\" class=\"data row0 col4\" >202730</td>\n",
       "      <td id=\"T_b3309_row0_col5\" class=\"data row0 col5\" >USD</td>\n",
       "      <td id=\"T_b3309_row0_col6\" class=\"data row0 col6\" >202730</td>\n",
       "      <td id=\"T_b3309_row0_col7\" class=\"data row0 col7\" >US</td>\n",
       "      <td id=\"T_b3309_row0_col8\" class=\"data row0 col8\" >0</td>\n",
       "      <td id=\"T_b3309_row0_col9\" class=\"data row0 col9\" >US</td>\n",
       "      <td id=\"T_b3309_row0_col10\" class=\"data row0 col10\" >M</td>\n",
       "    </tr>\n",
       "    <tr>\n",
       "      <th id=\"T_b3309_level0_row1\" class=\"row_heading level0 row1\" >1</th>\n",
       "      <td id=\"T_b3309_row1_col0\" class=\"data row1 col0\" >2024</td>\n",
       "      <td id=\"T_b3309_row1_col1\" class=\"data row1 col1\" >SE</td>\n",
       "      <td id=\"T_b3309_row1_col2\" class=\"data row1 col2\" >FT</td>\n",
       "      <td id=\"T_b3309_row1_col3\" class=\"data row1 col3\" >AI Engineer</td>\n",
       "      <td id=\"T_b3309_row1_col4\" class=\"data row1 col4\" >92118</td>\n",
       "      <td id=\"T_b3309_row1_col5\" class=\"data row1 col5\" >USD</td>\n",
       "      <td id=\"T_b3309_row1_col6\" class=\"data row1 col6\" >92118</td>\n",
       "      <td id=\"T_b3309_row1_col7\" class=\"data row1 col7\" >US</td>\n",
       "      <td id=\"T_b3309_row1_col8\" class=\"data row1 col8\" >0</td>\n",
       "      <td id=\"T_b3309_row1_col9\" class=\"data row1 col9\" >US</td>\n",
       "      <td id=\"T_b3309_row1_col10\" class=\"data row1 col10\" >M</td>\n",
       "    </tr>\n",
       "    <tr>\n",
       "      <th id=\"T_b3309_level0_row2\" class=\"row_heading level0 row2\" >2</th>\n",
       "      <td id=\"T_b3309_row2_col0\" class=\"data row2 col0\" >2024</td>\n",
       "      <td id=\"T_b3309_row2_col1\" class=\"data row2 col1\" >SE</td>\n",
       "      <td id=\"T_b3309_row2_col2\" class=\"data row2 col2\" >FT</td>\n",
       "      <td id=\"T_b3309_row2_col3\" class=\"data row2 col3\" >Data Engineer</td>\n",
       "      <td id=\"T_b3309_row2_col4\" class=\"data row2 col4\" >130500</td>\n",
       "      <td id=\"T_b3309_row2_col5\" class=\"data row2 col5\" >USD</td>\n",
       "      <td id=\"T_b3309_row2_col6\" class=\"data row2 col6\" >130500</td>\n",
       "      <td id=\"T_b3309_row2_col7\" class=\"data row2 col7\" >US</td>\n",
       "      <td id=\"T_b3309_row2_col8\" class=\"data row2 col8\" >0</td>\n",
       "      <td id=\"T_b3309_row2_col9\" class=\"data row2 col9\" >US</td>\n",
       "      <td id=\"T_b3309_row2_col10\" class=\"data row2 col10\" >M</td>\n",
       "    </tr>\n",
       "    <tr>\n",
       "      <th id=\"T_b3309_level0_row3\" class=\"row_heading level0 row3\" >3</th>\n",
       "      <td id=\"T_b3309_row3_col0\" class=\"data row3 col0\" >2024</td>\n",
       "      <td id=\"T_b3309_row3_col1\" class=\"data row3 col1\" >SE</td>\n",
       "      <td id=\"T_b3309_row3_col2\" class=\"data row3 col2\" >FT</td>\n",
       "      <td id=\"T_b3309_row3_col3\" class=\"data row3 col3\" >Data Engineer</td>\n",
       "      <td id=\"T_b3309_row3_col4\" class=\"data row3 col4\" >96000</td>\n",
       "      <td id=\"T_b3309_row3_col5\" class=\"data row3 col5\" >USD</td>\n",
       "      <td id=\"T_b3309_row3_col6\" class=\"data row3 col6\" >96000</td>\n",
       "      <td id=\"T_b3309_row3_col7\" class=\"data row3 col7\" >US</td>\n",
       "      <td id=\"T_b3309_row3_col8\" class=\"data row3 col8\" >0</td>\n",
       "      <td id=\"T_b3309_row3_col9\" class=\"data row3 col9\" >US</td>\n",
       "      <td id=\"T_b3309_row3_col10\" class=\"data row3 col10\" >M</td>\n",
       "    </tr>\n",
       "    <tr>\n",
       "      <th id=\"T_b3309_level0_row4\" class=\"row_heading level0 row4\" >4</th>\n",
       "      <td id=\"T_b3309_row4_col0\" class=\"data row4 col0\" >2024</td>\n",
       "      <td id=\"T_b3309_row4_col1\" class=\"data row4 col1\" >SE</td>\n",
       "      <td id=\"T_b3309_row4_col2\" class=\"data row4 col2\" >FT</td>\n",
       "      <td id=\"T_b3309_row4_col3\" class=\"data row4 col3\" >Machine Learning Engineer</td>\n",
       "      <td id=\"T_b3309_row4_col4\" class=\"data row4 col4\" >190000</td>\n",
       "      <td id=\"T_b3309_row4_col5\" class=\"data row4 col5\" >USD</td>\n",
       "      <td id=\"T_b3309_row4_col6\" class=\"data row4 col6\" >190000</td>\n",
       "      <td id=\"T_b3309_row4_col7\" class=\"data row4 col7\" >US</td>\n",
       "      <td id=\"T_b3309_row4_col8\" class=\"data row4 col8\" >0</td>\n",
       "      <td id=\"T_b3309_row4_col9\" class=\"data row4 col9\" >US</td>\n",
       "      <td id=\"T_b3309_row4_col10\" class=\"data row4 col10\" >M</td>\n",
       "    </tr>\n",
       "    <tr>\n",
       "      <th id=\"T_b3309_level0_row5\" class=\"row_heading level0 row5\" >5</th>\n",
       "      <td id=\"T_b3309_row5_col0\" class=\"data row5 col0\" >2024</td>\n",
       "      <td id=\"T_b3309_row5_col1\" class=\"data row5 col1\" >SE</td>\n",
       "      <td id=\"T_b3309_row5_col2\" class=\"data row5 col2\" >FT</td>\n",
       "      <td id=\"T_b3309_row5_col3\" class=\"data row5 col3\" >Machine Learning Engineer</td>\n",
       "      <td id=\"T_b3309_row5_col4\" class=\"data row5 col4\" >160000</td>\n",
       "      <td id=\"T_b3309_row5_col5\" class=\"data row5 col5\" >USD</td>\n",
       "      <td id=\"T_b3309_row5_col6\" class=\"data row5 col6\" >160000</td>\n",
       "      <td id=\"T_b3309_row5_col7\" class=\"data row5 col7\" >US</td>\n",
       "      <td id=\"T_b3309_row5_col8\" class=\"data row5 col8\" >0</td>\n",
       "      <td id=\"T_b3309_row5_col9\" class=\"data row5 col9\" >US</td>\n",
       "      <td id=\"T_b3309_row5_col10\" class=\"data row5 col10\" >M</td>\n",
       "    </tr>\n",
       "    <tr>\n",
       "      <th id=\"T_b3309_level0_row6\" class=\"row_heading level0 row6\" >6</th>\n",
       "      <td id=\"T_b3309_row6_col0\" class=\"data row6 col0\" >2024</td>\n",
       "      <td id=\"T_b3309_row6_col1\" class=\"data row6 col1\" >MI</td>\n",
       "      <td id=\"T_b3309_row6_col2\" class=\"data row6 col2\" >FT</td>\n",
       "      <td id=\"T_b3309_row6_col3\" class=\"data row6 col3\" >ML Engineer</td>\n",
       "      <td id=\"T_b3309_row6_col4\" class=\"data row6 col4\" >400000</td>\n",
       "      <td id=\"T_b3309_row6_col5\" class=\"data row6 col5\" >USD</td>\n",
       "      <td id=\"T_b3309_row6_col6\" class=\"data row6 col6\" >400000</td>\n",
       "      <td id=\"T_b3309_row6_col7\" class=\"data row6 col7\" >US</td>\n",
       "      <td id=\"T_b3309_row6_col8\" class=\"data row6 col8\" >0</td>\n",
       "      <td id=\"T_b3309_row6_col9\" class=\"data row6 col9\" >US</td>\n",
       "      <td id=\"T_b3309_row6_col10\" class=\"data row6 col10\" >M</td>\n",
       "    </tr>\n",
       "    <tr>\n",
       "      <th id=\"T_b3309_level0_row7\" class=\"row_heading level0 row7\" >7</th>\n",
       "      <td id=\"T_b3309_row7_col0\" class=\"data row7 col0\" >2024</td>\n",
       "      <td id=\"T_b3309_row7_col1\" class=\"data row7 col1\" >MI</td>\n",
       "      <td id=\"T_b3309_row7_col2\" class=\"data row7 col2\" >FT</td>\n",
       "      <td id=\"T_b3309_row7_col3\" class=\"data row7 col3\" >ML Engineer</td>\n",
       "      <td id=\"T_b3309_row7_col4\" class=\"data row7 col4\" >65000</td>\n",
       "      <td id=\"T_b3309_row7_col5\" class=\"data row7 col5\" >USD</td>\n",
       "      <td id=\"T_b3309_row7_col6\" class=\"data row7 col6\" >65000</td>\n",
       "      <td id=\"T_b3309_row7_col7\" class=\"data row7 col7\" >US</td>\n",
       "      <td id=\"T_b3309_row7_col8\" class=\"data row7 col8\" >0</td>\n",
       "      <td id=\"T_b3309_row7_col9\" class=\"data row7 col9\" >US</td>\n",
       "      <td id=\"T_b3309_row7_col10\" class=\"data row7 col10\" >M</td>\n",
       "    </tr>\n",
       "    <tr>\n",
       "      <th id=\"T_b3309_level0_row8\" class=\"row_heading level0 row8\" >8</th>\n",
       "      <td id=\"T_b3309_row8_col0\" class=\"data row8 col0\" >2024</td>\n",
       "      <td id=\"T_b3309_row8_col1\" class=\"data row8 col1\" >EN</td>\n",
       "      <td id=\"T_b3309_row8_col2\" class=\"data row8 col2\" >FT</td>\n",
       "      <td id=\"T_b3309_row8_col3\" class=\"data row8 col3\" >Data Analyst</td>\n",
       "      <td id=\"T_b3309_row8_col4\" class=\"data row8 col4\" >101520</td>\n",
       "      <td id=\"T_b3309_row8_col5\" class=\"data row8 col5\" >USD</td>\n",
       "      <td id=\"T_b3309_row8_col6\" class=\"data row8 col6\" >101520</td>\n",
       "      <td id=\"T_b3309_row8_col7\" class=\"data row8 col7\" >US</td>\n",
       "      <td id=\"T_b3309_row8_col8\" class=\"data row8 col8\" >0</td>\n",
       "      <td id=\"T_b3309_row8_col9\" class=\"data row8 col9\" >US</td>\n",
       "      <td id=\"T_b3309_row8_col10\" class=\"data row8 col10\" >M</td>\n",
       "    </tr>\n",
       "    <tr>\n",
       "      <th id=\"T_b3309_level0_row9\" class=\"row_heading level0 row9\" >9</th>\n",
       "      <td id=\"T_b3309_row9_col0\" class=\"data row9 col0\" >2024</td>\n",
       "      <td id=\"T_b3309_row9_col1\" class=\"data row9 col1\" >EN</td>\n",
       "      <td id=\"T_b3309_row9_col2\" class=\"data row9 col2\" >FT</td>\n",
       "      <td id=\"T_b3309_row9_col3\" class=\"data row9 col3\" >Data Analyst</td>\n",
       "      <td id=\"T_b3309_row9_col4\" class=\"data row9 col4\" >45864</td>\n",
       "      <td id=\"T_b3309_row9_col5\" class=\"data row9 col5\" >USD</td>\n",
       "      <td id=\"T_b3309_row9_col6\" class=\"data row9 col6\" >45864</td>\n",
       "      <td id=\"T_b3309_row9_col7\" class=\"data row9 col7\" >US</td>\n",
       "      <td id=\"T_b3309_row9_col8\" class=\"data row9 col8\" >0</td>\n",
       "      <td id=\"T_b3309_row9_col9\" class=\"data row9 col9\" >US</td>\n",
       "      <td id=\"T_b3309_row9_col10\" class=\"data row9 col10\" >M</td>\n",
       "    </tr>\n",
       "  </tbody>\n",
       "</table>\n"
      ]
     },
     "metadata": {},
     "output_type": "display_data"
    }
   ],
   "execution_count": 9
  },
  {
   "cell_type": "markdown",
   "id": "d967322a",
   "metadata": {},
   "source": [
    "## DataFrames"
   ]
  },
  {
   "cell_type": "markdown",
   "id": "e174cd65",
   "metadata": {},
   "source": [
    "A DataFrame is two-dimensional. Columns can be of different data types. DataFrames accept many data inputs including series and other DataFrames. You can pass indexes (row labels) and columns (column labels). Indexes can be numbers, dates, or strings/tuples.\n"
   ]
  },
  {
   "cell_type": "markdown",
   "id": "e78f1fc1",
   "metadata": {},
   "source": [
    "### Load the data into Spark dataframe"
   ]
  },
  {
   "cell_type": "code",
   "id": "2c5139e1",
   "metadata": {
    "ExecuteTime": {
     "end_time": "2024-06-03T09:12:19.869611Z",
     "start_time": "2024-06-03T09:12:19.866167Z"
    }
   },
   "source": [
    "schema = StructType([\n",
    "    StructField(\"work_year\", IntegerType(), True),\n",
    "    StructField(\"experience_level\", StringType(), True),\n",
    "    StructField(\"employment_type\", StringType(), True),\n",
    "    StructField(\"job_title\", StringType(), True),\n",
    "    StructField(\"salary\", IntegerType(), True),\n",
    "    StructField(\"salary_currency\", StringType(), True),\n",
    "    StructField(\"salary_in_usd\", IntegerType(), True),\n",
    "    StructField(\"employee_residence\", StringType(), True),\n",
    "    StructField(\"remote_ratio\", IntegerType(), True),\n",
    "    StructField(\"company_location\", StringType(), True),\n",
    "    StructField(\"company_size\", StringType(), True)\n",
    "])"
   ],
   "outputs": [],
   "execution_count": 10
  },
  {
   "cell_type": "code",
   "id": "7c545ded",
   "metadata": {
    "ExecuteTime": {
     "end_time": "2024-06-03T09:12:22.063444Z",
     "start_time": "2024-06-03T09:12:20.870122Z"
    }
   },
   "source": [
    "# Convert Pandas DataFrame to Spark DataFrame with defined schema\n",
    "salaries_df = spark.createDataFrame(data_engineer_salary.values.tolist(), schema=schema)\n",
    "# Show the DataFrame schema and some data\n",
    "salaries_df.printSchema()"
   ],
   "outputs": [
    {
     "name": "stdout",
     "output_type": "stream",
     "text": [
      "root\n",
      " |-- work_year: integer (nullable = true)\n",
      " |-- experience_level: string (nullable = true)\n",
      " |-- employment_type: string (nullable = true)\n",
      " |-- job_title: string (nullable = true)\n",
      " |-- salary: integer (nullable = true)\n",
      " |-- salary_currency: string (nullable = true)\n",
      " |-- salary_in_usd: integer (nullable = true)\n",
      " |-- employee_residence: string (nullable = true)\n",
      " |-- remote_ratio: integer (nullable = true)\n",
      " |-- company_location: string (nullable = true)\n",
      " |-- company_size: string (nullable = true)\n",
      "\n"
     ]
    }
   ],
   "execution_count": 11
  },
  {
   "cell_type": "markdown",
   "id": "73fa7a58",
   "metadata": {},
   "source": [
    "###  Basic data analysis and manipulation\n",
    "In this section, we perform basic data analysis and manipulation. We start with previewing the data and then applying some filtering and columwise operations."
   ]
  },
  {
   "cell_type": "markdown",
   "id": "3955ade1",
   "metadata": {},
   "source": [
    "#### Task 1:\n",
    "\n",
    "Show the first 5 records of the DataFrame."
   ]
  },
  {
   "cell_type": "code",
   "id": "d27acc3d",
   "metadata": {
    "scrolled": true,
    "ExecuteTime": {
     "end_time": "2024-06-03T09:13:10.952357Z",
     "start_time": "2024-06-03T09:13:01.369897Z"
    }
   },
   "source": [
    "# to-do\n",
    "salaries_df.show(5)"
   ],
   "outputs": [
    {
     "name": "stderr",
     "output_type": "stream",
     "text": [
      "                                                                                \r"
     ]
    },
    {
     "name": "stdout",
     "output_type": "stream",
     "text": [
      "+---------+----------------+---------------+--------------------+------+---------------+-------------+------------------+------------+----------------+------------+\n",
      "|work_year|experience_level|employment_type|           job_title|salary|salary_currency|salary_in_usd|employee_residence|remote_ratio|company_location|company_size|\n",
      "+---------+----------------+---------------+--------------------+------+---------------+-------------+------------------+------------+----------------+------------+\n",
      "|     2024|              SE|             FT|         AI Engineer|202730|            USD|       202730|                US|           0|              US|           M|\n",
      "|     2024|              SE|             FT|         AI Engineer| 92118|            USD|        92118|                US|           0|              US|           M|\n",
      "|     2024|              SE|             FT|       Data Engineer|130500|            USD|       130500|                US|           0|              US|           M|\n",
      "|     2024|              SE|             FT|       Data Engineer| 96000|            USD|        96000|                US|           0|              US|           M|\n",
      "|     2024|              SE|             FT|Machine Learning ...|190000|            USD|       190000|                US|           0|              US|           M|\n",
      "+---------+----------------+---------------+--------------------+------+---------------+-------------+------------------+------------+----------------+------------+\n",
      "only showing top 5 rows\n",
      "\n"
     ]
    }
   ],
   "execution_count": 12
  },
  {
   "cell_type": "markdown",
   "id": "2f2ad3c7",
   "metadata": {},
   "source": [
    "#### Task 2:\n",
    "Select the `salary` and `job_title` columns from the DataFrame and display the first 5 rows of this columns."
   ]
  },
  {
   "cell_type": "code",
   "id": "fb8f9918",
   "metadata": {
    "scrolled": true,
    "ExecuteTime": {
     "end_time": "2024-06-03T09:23:30.696801Z",
     "start_time": "2024-06-03T09:23:30.468732Z"
    }
   },
   "source": [
    "# to-do\n",
    "selected_df = salaries_df.select(\"salary\", \"job_title\")\n",
    "selected_df.show(5)"
   ],
   "outputs": [
    {
     "name": "stdout",
     "output_type": "stream",
     "text": [
      "+------+--------------------+\n",
      "|salary|           job_title|\n",
      "+------+--------------------+\n",
      "|202730|         AI Engineer|\n",
      "| 92118|         AI Engineer|\n",
      "|130500|       Data Engineer|\n",
      "| 96000|       Data Engineer|\n",
      "|190000|Machine Learning ...|\n",
      "+------+--------------------+\n",
      "only showing top 5 rows\n",
      "\n"
     ]
    }
   ],
   "execution_count": 14
  },
  {
   "cell_type": "markdown",
   "id": "553f4c3c",
   "metadata": {},
   "source": [
    "#### Task 3: \n",
    "\n",
    "Display the first five rows of `salary` and `job_title` and `salary_currency` from the DataFrame where the salary is less than 50,000. "
   ]
  },
  {
   "cell_type": "code",
   "id": "aa5318ed",
   "metadata": {
    "ExecuteTime": {
     "end_time": "2024-06-03T09:25:28.905204Z",
     "start_time": "2024-06-03T09:25:28.612616Z"
    }
   },
   "source": [
    "# to-do\n",
    "salaries_df.filter(salaries_df.salary < 50000).select(\"salary\", \"job_title\", \"salary_currency\").show(5)"
   ],
   "outputs": [
    {
     "name": "stdout",
     "output_type": "stream",
     "text": [
      "+------+---------------+---------------+\n",
      "|salary|      job_title|salary_currency|\n",
      "+------+---------------+---------------+\n",
      "| 45864|   Data Analyst|            USD|\n",
      "| 45000| Data Architect|            GBP|\n",
      "| 30000|   Data Analyst|            EUR|\n",
      "| 25800|   Data Analyst|            EUR|\n",
      "| 45607|Data Specialist|            GBP|\n",
      "+------+---------------+---------------+\n",
      "only showing top 5 rows\n",
      "\n"
     ]
    }
   ],
   "execution_count": 15
  },
  {
   "cell_type": "markdown",
   "id": "0535fa16",
   "metadata": {},
   "source": [
    "#### Task 4: \n",
    "\n",
    "Multiply the salary column by 0.5 and display the `salary`, `job_title`, and the newly calculated half_salary for the first five rows."
   ]
  },
  {
   "cell_type": "code",
   "id": "532e6afc",
   "metadata": {
    "ExecuteTime": {
     "end_time": "2024-06-03T09:27:44.745372Z",
     "start_time": "2024-06-03T09:27:44.458965Z"
    }
   },
   "source": [
    "# to-do\n",
    "df = salaries_df.withColumn(\"half_salary\", salaries_df.salary * 0.5)\n",
    "df.select(\"salary\", \"job_title\", \"half_salary\").show(5)"
   ],
   "outputs": [
    {
     "name": "stdout",
     "output_type": "stream",
     "text": [
      "+------+--------------------+-----------+\n",
      "|salary|           job_title|half_salary|\n",
      "+------+--------------------+-----------+\n",
      "|202730|         AI Engineer|   101365.0|\n",
      "| 92118|         AI Engineer|    46059.0|\n",
      "|130500|       Data Engineer|    65250.0|\n",
      "| 96000|       Data Engineer|    48000.0|\n",
      "|190000|Machine Learning ...|    95000.0|\n",
      "+------+--------------------+-----------+\n",
      "only showing top 5 rows\n",
      "\n"
     ]
    }
   ],
   "execution_count": 16
  },
  {
   "cell_type": "markdown",
   "id": "cc30288b",
   "metadata": {},
   "source": [
    "#### Task 5: \n",
    "\n",
    "Join these two dataframes on `emp_id`."
   ]
  },
  {
   "cell_type": "code",
   "id": "797816c3",
   "metadata": {
    "ExecuteTime": {
     "end_time": "2024-06-03T09:30:08.518387Z",
     "start_time": "2024-06-03T09:30:08.489342Z"
    }
   },
   "source": [
    "# DataFrame 1 \n",
    "\n",
    "data = [(\"A101\", \"John\"), (\"A102\", \"Peter\"), (\"A103\", \"Charlie\")] \n",
    "\n",
    "columns = [\"emp_id\", \"emp_name\"] \n",
    "\n",
    "dataframe_1 = spark.createDataFrame(data, columns) "
   ],
   "outputs": [],
   "execution_count": 18
  },
  {
   "cell_type": "code",
   "id": "63f333f3",
   "metadata": {
    "ExecuteTime": {
     "end_time": "2024-06-03T09:30:09.074794Z",
     "start_time": "2024-06-03T09:30:09.044102Z"
    }
   },
   "source": [
    "# DataFrame 2 \n",
    "\n",
    "data = [(\"A101\", 1000), (\"A102\", 2000), (\"A103\", 3000)]\n",
    "\n",
    "columns = [\"emp_id\", \"salary\"]\n",
    "\n",
    "dataframe_2 = spark.createDataFrame(data, columns)"
   ],
   "outputs": [],
   "execution_count": 19
  },
  {
   "cell_type": "code",
   "id": "57bf3551",
   "metadata": {
    "ExecuteTime": {
     "end_time": "2024-06-03T09:30:11.521032Z",
     "start_time": "2024-06-03T09:30:09.807584Z"
    }
   },
   "source": [
    "# to-do \n",
    "# create a new DataFrame, \"combined_df\" by performing an inner join\n",
    "combined_df = dataframe_1.join(dataframe_2, on=\"emp_id\", how=\"inner\")\n",
    "combined_df.show()"
   ],
   "outputs": [
    {
     "name": "stderr",
     "output_type": "stream",
     "text": [
      "[Stage 6:===================================================>       (7 + 1) / 8]\r"
     ]
    },
    {
     "name": "stdout",
     "output_type": "stream",
     "text": [
      "+------+--------+------+\n",
      "|emp_id|emp_name|salary|\n",
      "+------+--------+------+\n",
      "|  A101|    John|  1000|\n",
      "|  A102|   Peter|  2000|\n",
      "|  A103| Charlie|  3000|\n",
      "+------+--------+------+\n",
      "\n"
     ]
    },
    {
     "name": "stderr",
     "output_type": "stream",
     "text": [
      "                                                                                \r"
     ]
    }
   ],
   "execution_count": 20
  },
  {
   "cell_type": "markdown",
   "id": "126e549d",
   "metadata": {},
   "source": [
    "#### Task6:\n",
    "\n",
    "Filter the DataFrame to include only entries with experience levels \"SE\" (Senior Engineer) and \"MI\" (Mid-Level Engineer), then calculate and display the average salary for each experience level."
   ]
  },
  {
   "cell_type": "code",
   "id": "63f6037d",
   "metadata": {
    "ExecuteTime": {
     "end_time": "2024-06-03T09:36:38.876929Z",
     "start_time": "2024-06-03T09:36:37.369238Z"
    }
   },
   "source": [
    "# to-do \n",
    "filtered_df = df.filter((df.experience_level == \"SE\") | (df.experience_level == \"MI\"))\n",
    "average_salary_by_experience = filtered_df.groupBy(\"experience_level\").avg(\"salary\")\n",
    "average_salary_by_experience.show()"
   ],
   "outputs": [
    {
     "name": "stderr",
     "output_type": "stream",
     "text": [
      "[Stage 10:====================================>                     (5 + 3) / 8]\r"
     ]
    },
    {
     "name": "stdout",
     "output_type": "stream",
     "text": [
      "+----------------+------------------+\n",
      "|experience_level|       avg(salary)|\n",
      "+----------------+------------------+\n",
      "|              MI|157116.97672114908|\n",
      "|              SE|168852.49343955013|\n",
      "+----------------+------------------+\n",
      "\n"
     ]
    },
    {
     "name": "stderr",
     "output_type": "stream",
     "text": [
      "                                                                                \r"
     ]
    }
   ],
   "execution_count": 21
  },
  {
   "cell_type": "markdown",
   "id": "b22335a2",
   "metadata": {},
   "source": [
    "#### Task7\n",
    "Write datadrame in the `HDFS` and load"
   ]
  },
  {
   "cell_type": "code",
   "id": "7adada51",
   "metadata": {
    "ExecuteTime": {
     "end_time": "2024-06-03T09:57:14.082089Z",
     "start_time": "2024-06-03T09:57:02.821568Z"
    }
   },
   "source": [
    "# to-do \n",
    "hdfs_path = \"hdfs://localhost:9000/spark/data\"\n",
    "df.write.format(\"parquet\").save(hdfs_path)\n",
    "\n",
    "# Load DataFrame from HDFS\n",
    "loaded_df = spark.read.format(\"parquet\").load(hdfs_path)\n",
    "\n",
    "# Show loaded DataFrame\n",
    "loaded_df.show()\n"
   ],
   "outputs": [
    {
     "name": "stderr",
     "output_type": "stream",
     "text": [
      "24/06/03 13:27:11 WARN MemoryManager: Total allocation exceeds 95.00% (906,992,014 bytes) of heap memory\n",
      "Scaling row group sizes to 96.54% for 7 writers\n",
      "24/06/03 13:27:11 WARN MemoryManager: Total allocation exceeds 95.00% (906,992,014 bytes) of heap memory\n",
      "Scaling row group sizes to 84.47% for 8 writers\n",
      "24/06/03 13:27:12 WARN MemoryManager: Total allocation exceeds 95.00% (906,992,014 bytes) of heap memory\n",
      "Scaling row group sizes to 96.54% for 7 writers\n",
      "                                                                                \r"
     ]
    },
    {
     "name": "stdout",
     "output_type": "stream",
     "text": [
      "+---------+----------------+---------------+--------------------+------+---------------+-------------+------------------+------------+----------------+------------+-----------+\n",
      "|work_year|experience_level|employment_type|           job_title|salary|salary_currency|salary_in_usd|employee_residence|remote_ratio|company_location|company_size|half_salary|\n",
      "+---------+----------------+---------------+--------------------+------+---------------+-------------+------------------+------------+----------------+------------+-----------+\n",
      "|     2023|              MI|             FT|       Data Engineer|175000|            USD|       175000|                US|           0|              US|           M|    87500.0|\n",
      "|     2023|              SE|             FT|      Data Scientist|136000|            USD|       136000|                US|         100|              US|           M|    68000.0|\n",
      "|     2023|              SE|             FT|      Data Scientist|104000|            USD|       104000|                US|         100|              US|           M|    52000.0|\n",
      "|     2023|              MI|             FT|        Data Analyst| 80000|            USD|        80000|                US|           0|              US|           M|    40000.0|\n",
      "|     2023|              MI|             FT|        Data Analyst| 52500|            USD|        52500|                US|           0|              US|           M|    26250.0|\n",
      "|     2023|              SE|             FT|      Data Scientist|110000|            USD|       110000|                US|         100|              US|           M|    55000.0|\n",
      "|     2023|              SE|             FT|      Data Scientist| 84000|            USD|        84000|                US|         100|              US|           M|    42000.0|\n",
      "|     2023|              SE|             FT|          BI Analyst|125000|            USD|       125000|                US|           0|              US|           M|    62500.0|\n",
      "|     2023|              SE|             FT|          BI Analyst|110000|            USD|       110000|                US|           0|              US|           M|    55000.0|\n",
      "|     2023|              MI|             FT|        Data Analyst| 90000|            USD|        90000|                US|           0|              US|           M|    45000.0|\n",
      "|     2023|              MI|             FT|        Data Analyst| 80000|            USD|        80000|                US|           0|              US|           M|    40000.0|\n",
      "|     2023|              SE|             FT|         ML Engineer|200000|            USD|       200000|                US|           0|              US|           M|   100000.0|\n",
      "|     2023|              SE|             FT|         ML Engineer|135000|            USD|       135000|                US|           0|              US|           M|    67500.0|\n",
      "|     2022|              EN|             FT|Business Data Ana...| 48000|            USD|        48000|                US|          50|              US|           L|    24000.0|\n",
      "|     2023|              EN|             FT|        AI Developer|120000|            USD|       120000|                BA|          50|              BA|           S|    60000.0|\n",
      "|     2023|              SE|             FT|       Data Engineer|130000|            USD|       130000|                US|           0|              US|           M|    65000.0|\n",
      "|     2023|              SE|             FT|       Data Engineer| 75000|            USD|        75000|                US|           0|              US|           M|    37500.0|\n",
      "|     2023|              SE|             FT|       Data Engineer|252000|            USD|       252000|                US|           0|              US|           M|   126000.0|\n",
      "|     2023|              SE|             FT|       Data Engineer|129000|            USD|       129000|                US|           0|              US|           M|    64500.0|\n",
      "|     2023|              MI|             FT|        Data Analyst|150000|            USD|       150000|                US|           0|              US|           M|    75000.0|\n",
      "+---------+----------------+---------------+--------------------+------+---------------+-------------+------------------+------------+----------------+------------+-----------+\n",
      "only showing top 20 rows\n",
      "\n"
     ]
    }
   ],
   "execution_count": 24
  },
  {
   "cell_type": "markdown",
   "id": "987e841c",
   "metadata": {},
   "source": [
    "# **Introduction to SparkSQL**"
   ]
  },
  {
   "cell_type": "markdown",
   "id": "c1c6284c",
   "metadata": {},
   "source": [
    "Spark SQL is a Spark module for structured data processing. It is used to query structured data inside Spark programs, using either SQL or a familiar DataFrame API."
   ]
  },
  {
   "cell_type": "markdown",
   "id": "92ed4dfc",
   "metadata": {},
   "source": [
    "####  Create a Table View\n",
    "Creating a table view in Spark SQL is required to run SQL queries programmatically on a DataFrame. A view is a temporary table to run SQL queries. A Temporary view provides local scope within the current Spark session. In this example we create a temporary view using the `createTempView()` function. Once we have a table view, we can run queries similar to querying a SQL table.\n"
   ]
  },
  {
   "cell_type": "code",
   "id": "6b51d1f4",
   "metadata": {
    "ExecuteTime": {
     "end_time": "2024-06-03T13:32:48.676679Z",
     "start_time": "2024-06-03T13:32:48.653061Z"
    }
   },
   "source": [
    "salaries_df.createTempView(\"salaries\")"
   ],
   "outputs": [],
   "execution_count": 26
  },
  {
   "cell_type": "markdown",
   "id": "78b19b52",
   "metadata": {},
   "source": [
    "####  Running SQL queries and aggregating data"
   ]
  },
  {
   "cell_type": "markdown",
   "id": "b13802f9",
   "metadata": {},
   "source": [
    "####  Task 8:\n",
    "Display the first five records of AI Engineers with salaries over 10,000 with Spark SQL."
   ]
  },
  {
   "cell_type": "code",
   "id": "aa750d0f",
   "metadata": {
    "ExecuteTime": {
     "end_time": "2024-06-03T13:32:52.220227Z",
     "start_time": "2024-06-03T13:32:51.747267Z"
    }
   },
   "source": [
    "# to-do \n",
    "sql_query = \"\"\"\n",
    "SELECT *\n",
    "FROM salaries\n",
    "WHERE job_title = 'AI Engineer' AND salary > 10000\n",
    "LIMIT 5\n",
    "\"\"\"\n",
    "\n",
    "result = spark.sql(sql_query)\n",
    "result.show()"
   ],
   "outputs": [
    {
     "name": "stdout",
     "output_type": "stream",
     "text": [
      "+---------+----------------+---------------+-----------+------+---------------+-------------+------------------+------------+----------------+------------+\n",
      "|work_year|experience_level|employment_type|  job_title|salary|salary_currency|salary_in_usd|employee_residence|remote_ratio|company_location|company_size|\n",
      "+---------+----------------+---------------+-----------+------+---------------+-------------+------------------+------------+----------------+------------+\n",
      "|     2024|              SE|             FT|AI Engineer|202730|            USD|       202730|                US|           0|              US|           M|\n",
      "|     2024|              SE|             FT|AI Engineer| 92118|            USD|        92118|                US|           0|              US|           M|\n",
      "|     2024|              MI|             FT|AI Engineer|150000|            USD|       150000|                US|         100|              US|           M|\n",
      "|     2024|              MI|             FT|AI Engineer| 90200|            USD|        90200|                US|         100|              US|           M|\n",
      "|     2024|              SE|             FT|AI Engineer|236872|            USD|       236872|                US|           0|              US|           M|\n",
      "+---------+----------------+---------------+-----------+------+---------------+-------------+------------------+------------+----------------+------------+\n",
      "\n"
     ]
    }
   ],
   "execution_count": 27
  },
  {
   "cell_type": "markdown",
   "id": "9de03da5",
   "metadata": {},
   "source": [
    "#### Task 9:\n",
    "Execute a SQL query to find and display the maximum salaries for job titles in `large` `US` companies, then plot the top 10 highest salaries using a horizontal bar chart."
   ]
  },
  {
   "cell_type": "code",
   "id": "5af4db7d",
   "metadata": {
    "ExecuteTime": {
     "end_time": "2024-06-03T13:41:45.034461Z",
     "start_time": "2024-06-03T13:41:43.483666Z"
    }
   },
   "source": [
    "# to-do \n",
    "sql_query = \"\"\"\n",
    "SELECT job_title, MAX(salary) as max_salary\n",
    "FROM salaries\n",
    "WHERE company_location = 'US'\n",
    "GROUP BY job_title\n",
    "ORDER BY max_salary DESC\n",
    "LIMIT 10\n",
    "\"\"\"\n",
    "\n",
    "result = spark.sql(sql_query)\n",
    "result.show()\n",
    "pandas_df = result.toPandas()\n",
    "\n",
    "# Plot the top 10 highest salaries using a horizontal bar chart\n",
    "plt.figure(figsize=(10, 6))\n",
    "plt.barh(pandas_df['job_title'], pandas_df['max_salary'], color='skyblue')\n",
    "plt.xlabel('Max Salary')\n",
    "plt.ylabel('Job Title')\n",
    "plt.title('Top 10 Highest Salaries by Job Title in Large US Companies')\n",
    "plt.gca().invert_yaxis()  # Invert y-axis to show the highest salary at the top\n",
    "plt.show()"
   ],
   "outputs": [
    {
     "name": "stdout",
     "output_type": "stream",
     "text": [
      "+--------------------+----------+\n",
      "|           job_title|max_salary|\n",
      "+--------------------+----------+\n",
      "|     BI Data Analyst|  11000000|\n",
      "|Data Science Manager|   4000000|\n",
      "|      Data Scientist|   2500000|\n",
      "|Machine Learning ...|    750000|\n",
      "|        Data Analyst|    750000|\n",
      "|Machine Learning ...|    750000|\n",
      "|       Data Engineer|    750000|\n",
      "|  Analytics Engineer|    750000|\n",
      "|  Research Scientist|    720000|\n",
      "|   Research Engineer|    720000|\n",
      "+--------------------+----------+\n",
      "\n"
     ]
    },
    {
     "data": {
      "text/plain": [
       "<Figure size 1000x600 with 1 Axes>"
      ],
      "image/png": "[encoded data removed]"
     },
     "metadata": {},
     "output_type": "display_data"
    }
   ],
   "execution_count": 30
  },
  {
   "cell_type": "markdown",
   "id": "3b566321",
   "metadata": {},
   "source": [
    "#### Task 10:\n",
    "Write a Spark SQL query to count the instances where a Data Engineer's salary in USD is greater than that of a Data Analyst, considering matching experience level, employment type, and company location."
   ]
  },
  {
   "cell_type": "code",
   "id": "bcd24155",
   "metadata": {
    "ExecuteTime": {
     "end_time": "2024-06-03T13:53:52.219680Z",
     "start_time": "2024-06-03T13:53:50.924166Z"
    }
   },
   "source": [
    "# to do\n",
    "sql_query = \"\"\"\n",
    "SELECT COUNT(*)\n",
    "FROM salaries de\n",
    "JOIN salaries da\n",
    "ON de.experience_level = da.experience_level\n",
    "AND de.employment_type = da.employment_type\n",
    "AND de.company_location = da.company_location\n",
    "WHERE de.job_title = 'Data Engineer'\n",
    "AND da.job_title = 'Data Analyst'\n",
    "AND de.salary_currency = 'USD'\n",
    "AND da.salary_currency = 'USD'\n",
    "AND de.salary > da.salary\n",
    "\"\"\"\n",
    "\n",
    "result = spark.sql(sql_query)\n",
    "result.show()"
   ],
   "outputs": [
    {
     "name": "stderr",
     "output_type": "stream",
     "text": [
      "[Stage 27:=============================>                            (4 + 4) / 8]\r"
     ]
    },
    {
     "name": "stdout",
     "output_type": "stream",
     "text": [
      "+--------+\n",
      "|count(1)|\n",
      "+--------+\n",
      "| 2056269|\n",
      "+--------+\n",
      "\n"
     ]
    },
    {
     "name": "stderr",
     "output_type": "stream",
     "text": [
      "                                                                                \r"
     ]
    }
   ],
   "execution_count": 36
  },
  {
   "cell_type": "markdown",
   "id": "8a088363",
   "metadata": {},
   "source": [
    "#### Create an RDD"
   ]
  },
  {
   "cell_type": "code",
   "id": "55737a7b",
   "metadata": {
    "ExecuteTime": {
     "end_time": "2024-06-03T14:10:29.201778Z",
     "start_time": "2024-06-03T14:10:29.199501Z"
    }
   },
   "source": [
    "# Convert DataFrame to RDD\n",
    "salaries_rdd = salaries_df.rdd"
   ],
   "outputs": [],
   "execution_count": 50
  },
  {
   "cell_type": "markdown",
   "id": "f5112295",
   "metadata": {},
   "source": [
    "#### Transformations"
   ]
  },
  {
   "cell_type": "markdown",
   "id": "1643a815",
   "metadata": {},
   "source": [
    "A transformation is an operation on an RDD that results in a new RDD. The transformed RDD is generated rapidly because the new RDD is lazily evaluated, which means that the calculation is not carried out when the new RDD is generated. The RDD will contain a series of transformations, or computation instructions, that will only be carried out when an action is called. Note the use of the lambda function."
   ]
  },
  {
   "cell_type": "code",
   "id": "ed699719",
   "metadata": {
    "ExecuteTime": {
     "end_time": "2024-06-03T14:10:36.340859Z",
     "start_time": "2024-06-03T14:10:36.337328Z"
    }
   },
   "source": "high_salary_rdd = salaries_rdd.filter(lambda row: row['salary'] > 200000)",
   "outputs": [],
   "execution_count": 51
  },
  {
   "cell_type": "markdown",
   "id": "3b415037",
   "metadata": {},
   "source": [
    "#### Actions "
   ]
  },
  {
   "cell_type": "markdown",
   "id": "93ddcd44",
   "metadata": {},
   "source": [
    "A transformation returns a result to the driver. We now apply the `count()` action to get the output from the transformation."
   ]
  },
  {
   "cell_type": "code",
   "id": "d3f4e8e5",
   "metadata": {
    "ExecuteTime": {
     "end_time": "2024-06-03T14:10:40.133603Z",
     "start_time": "2024-06-03T14:10:39.545445Z"
    }
   },
   "source": [
    "high_salary_rdd.count()"
   ],
   "outputs": [
    {
     "data": {
      "text/plain": [
       "3262"
      ]
     },
     "execution_count": 52,
     "metadata": {},
     "output_type": "execute_result"
    }
   ],
   "execution_count": 52
  },
  {
   "cell_type": "markdown",
   "id": "19fb9a29",
   "metadata": {},
   "source": [
    "#### Task 11:\n",
    "Create an RDD with integers from 1-50. Apply a transformation to multiply every number by 2, resulting in an RDD that contains the first 50 even numbers. \n",
    "\n"
   ]
  },
  {
   "cell_type": "code",
   "id": "46d2a429",
   "metadata": {
    "ExecuteTime": {
     "end_time": "2024-06-03T14:10:58.456159Z",
     "start_time": "2024-06-03T14:10:58.201818Z"
    }
   },
   "source": [
    "# to do\n",
    "int_rdd = spark.sparkContext.parallelize(range(1, 51))\n",
    "\n",
    "even_numbers_rdd = int_rdd.map(lambda x: x * 2)\n",
    "\n",
    "even_numbers = even_numbers_rdd.collect()\n",
    "print(even_numbers)"
   ],
   "outputs": [
    {
     "name": "stdout",
     "output_type": "stream",
     "text": [
      "[2, 4, 6, 8, 10, 12, 14, 16, 18, 20, 22, 24, 26, 28, 30, 32, 34, 36, 38, 40, 42, 44, 46, 48, 50, 52, 54, 56, 58, 60, 62, 64, 66, 68, 70, 72, 74, 76, 78, 80, 82, 84, 86, 88, 90, 92, 94, 96, 98, 100]\n"
     ]
    }
   ],
   "execution_count": 53
  },
  {
   "cell_type": "markdown",
   "id": "7f0507c9",
   "metadata": {},
   "source": [
    "#### Task 12:\n",
    "Filter and collect all records from an RDD for employees with the job title \"Data Science Lead\""
   ]
  },
  {
   "cell_type": "code",
   "id": "65561f46",
   "metadata": {
    "ExecuteTime": {
     "end_time": "2024-06-03T14:11:18.294903Z",
     "start_time": "2024-06-03T14:11:17.593014Z"
    }
   },
   "source": [
    "# to do\n",
    "filtered_rdd = salaries_rdd.filter(lambda row: row['job_title'] == \"Data Science\" and row['experience_level'] == 'SE')\n",
    "filtered_records = filtered_rdd.collect()\n",
    "for record in filtered_records:\n",
    "    print(record)"
   ],
   "outputs": [
    {
     "name": "stdout",
     "output_type": "stream",
     "text": [
      "Row(work_year=2024, experience_level='SE', employment_type='FT', job_title='Data Science', salary=283800, salary_currency='USD', salary_in_usd=283800, employee_residence='US', remote_ratio=0, company_location='US', company_size='M')\n",
      "Row(work_year=2024, experience_level='SE', employment_type='FT', job_title='Data Science', salary=234700, salary_currency='USD', salary_in_usd=234700, employee_residence='US', remote_ratio=0, company_location='US', company_size='M')\n",
      "Row(work_year=2024, experience_level='SE', employment_type='FT', job_title='Data Science', salary=210850, salary_currency='USD', salary_in_usd=210850, employee_residence='US', remote_ratio=0, company_location='US', company_size='M')\n",
      "Row(work_year=2024, experience_level='SE', employment_type='FT', job_title='Data Science', salary=145400, salary_currency='USD', salary_in_usd=145400, employee_residence='US', remote_ratio=0, company_location='US', company_size='M')\n",
      "Row(work_year=2024, experience_level='SE', employment_type='FT', job_title='Data Science', salary=210000, salary_currency='USD', salary_in_usd=210000, employee_residence='US', remote_ratio=0, company_location='US', company_size='M')\n",
      "Row(work_year=2024, experience_level='SE', employment_type='FT', job_title='Data Science', salary=170000, salary_currency='USD', salary_in_usd=170000, employee_residence='US', remote_ratio=0, company_location='US', company_size='M')\n",
      "Row(work_year=2024, experience_level='SE', employment_type='FT', job_title='Data Science', salary=110000, salary_currency='USD', salary_in_usd=110000, employee_residence='US', remote_ratio=0, company_location='US', company_size='M')\n",
      "Row(work_year=2024, experience_level='SE', employment_type='FT', job_title='Data Science', salary=90000, salary_currency='USD', salary_in_usd=90000, employee_residence='US', remote_ratio=0, company_location='US', company_size='M')\n",
      "Row(work_year=2024, experience_level='SE', employment_type='FT', job_title='Data Science', salary=292300, salary_currency='USD', salary_in_usd=292300, employee_residence='CA', remote_ratio=0, company_location='CA', company_size='M')\n",
      "Row(work_year=2024, experience_level='SE', employment_type='FT', job_title='Data Science', salary=149700, salary_currency='USD', salary_in_usd=149700, employee_residence='CA', remote_ratio=0, company_location='CA', company_size='M')\n",
      "Row(work_year=2024, experience_level='SE', employment_type='FT', job_title='Data Science', salary=206000, salary_currency='USD', salary_in_usd=206000, employee_residence='US', remote_ratio=0, company_location='US', company_size='M')\n",
      "Row(work_year=2024, experience_level='SE', employment_type='FT', job_title='Data Science', salary=106605, salary_currency='USD', salary_in_usd=106605, employee_residence='US', remote_ratio=0, company_location='US', company_size='M')\n",
      "Row(work_year=2024, experience_level='SE', employment_type='FT', job_title='Data Science', salary=150000, salary_currency='USD', salary_in_usd=150000, employee_residence='US', remote_ratio=100, company_location='US', company_size='M')\n",
      "Row(work_year=2024, experience_level='SE', employment_type='FT', job_title='Data Science', salary=90200, salary_currency='USD', salary_in_usd=90200, employee_residence='US', remote_ratio=100, company_location='US', company_size='M')\n",
      "Row(work_year=2024, experience_level='SE', employment_type='FT', job_title='Data Science', salary=175000, salary_currency='USD', salary_in_usd=175000, employee_residence='US', remote_ratio=0, company_location='US', company_size='M')\n",
      "Row(work_year=2024, experience_level='SE', employment_type='FT', job_title='Data Science', salary=100000, salary_currency='USD', salary_in_usd=100000, employee_residence='US', remote_ratio=0, company_location='US', company_size='M')\n",
      "Row(work_year=2024, experience_level='SE', employment_type='FT', job_title='Data Science', salary=223100, salary_currency='USD', salary_in_usd=223100, employee_residence='US', remote_ratio=0, company_location='US', company_size='M')\n",
      "Row(work_year=2024, experience_level='SE', employment_type='FT', job_title='Data Science', salary=126400, salary_currency='USD', salary_in_usd=126400, employee_residence='US', remote_ratio=0, company_location='US', company_size='M')\n",
      "Row(work_year=2024, experience_level='SE', employment_type='FT', job_title='Data Science', salary=160000, salary_currency='USD', salary_in_usd=160000, employee_residence='US', remote_ratio=100, company_location='US', company_size='M')\n",
      "Row(work_year=2024, experience_level='SE', employment_type='FT', job_title='Data Science', salary=120000, salary_currency='USD', salary_in_usd=120000, employee_residence='US', remote_ratio=100, company_location='US', company_size='M')\n",
      "Row(work_year=2024, experience_level='SE', employment_type='FT', job_title='Data Science', salary=221000, salary_currency='USD', salary_in_usd=221000, employee_residence='US', remote_ratio=0, company_location='US', company_size='M')\n",
      "Row(work_year=2024, experience_level='SE', employment_type='FT', job_title='Data Science', salary=138000, salary_currency='USD', salary_in_usd=138000, employee_residence='US', remote_ratio=0, company_location='US', company_size='M')\n",
      "Row(work_year=2024, experience_level='SE', employment_type='FT', job_title='Data Science', salary=237500, salary_currency='USD', salary_in_usd=237500, employee_residence='US', remote_ratio=0, company_location='US', company_size='M')\n",
      "Row(work_year=2024, experience_level='SE', employment_type='FT', job_title='Data Science', salary=192000, salary_currency='USD', salary_in_usd=192000, employee_residence='US', remote_ratio=0, company_location='US', company_size='M')\n",
      "Row(work_year=2024, experience_level='SE', employment_type='FT', job_title='Data Science', salary=245000, salary_currency='USD', salary_in_usd=245000, employee_residence='US', remote_ratio=0, company_location='US', company_size='M')\n",
      "Row(work_year=2024, experience_level='SE', employment_type='FT', job_title='Data Science', salary=185000, salary_currency='USD', salary_in_usd=185000, employee_residence='US', remote_ratio=0, company_location='US', company_size='M')\n",
      "Row(work_year=2024, experience_level='SE', employment_type='FT', job_title='Data Science', salary=200000, salary_currency='USD', salary_in_usd=200000, employee_residence='US', remote_ratio=0, company_location='US', company_size='M')\n",
      "Row(work_year=2024, experience_level='SE', employment_type='FT', job_title='Data Science', salary=170000, salary_currency='USD', salary_in_usd=170000, employee_residence='US', remote_ratio=0, company_location='US', company_size='M')\n",
      "Row(work_year=2024, experience_level='SE', employment_type='FT', job_title='Data Science', salary=268700, salary_currency='USD', salary_in_usd=268700, employee_residence='US', remote_ratio=0, company_location='US', company_size='M')\n",
      "Row(work_year=2024, experience_level='SE', employment_type='FT', job_title='Data Science', salary=130300, salary_currency='USD', salary_in_usd=130300, employee_residence='US', remote_ratio=0, company_location='US', company_size='M')\n",
      "Row(work_year=2024, experience_level='SE', employment_type='FT', job_title='Data Science', salary=331292, salary_currency='USD', salary_in_usd=331292, employee_residence='US', remote_ratio=0, company_location='US', company_size='M')\n",
      "Row(work_year=2024, experience_level='SE', employment_type='FT', job_title='Data Science', salary=244868, salary_currency='USD', salary_in_usd=244868, employee_residence='US', remote_ratio=0, company_location='US', company_size='M')\n",
      "Row(work_year=2024, experience_level='SE', employment_type='FT', job_title='Data Science', salary=240000, salary_currency='USD', salary_in_usd=240000, employee_residence='US', remote_ratio=0, company_location='US', company_size='M')\n",
      "Row(work_year=2024, experience_level='SE', employment_type='FT', job_title='Data Science', salary=204000, salary_currency='USD', salary_in_usd=204000, employee_residence='US', remote_ratio=0, company_location='US', company_size='M')\n",
      "Row(work_year=2024, experience_level='SE', employment_type='FT', job_title='Data Science', salary=180000, salary_currency='USD', salary_in_usd=180000, employee_residence='US', remote_ratio=0, company_location='US', company_size='M')\n",
      "Row(work_year=2024, experience_level='SE', employment_type='FT', job_title='Data Science', salary=160000, salary_currency='USD', salary_in_usd=160000, employee_residence='US', remote_ratio=0, company_location='US', company_size='M')\n",
      "Row(work_year=2024, experience_level='SE', employment_type='FT', job_title='Data Science', salary=234000, salary_currency='USD', salary_in_usd=234000, employee_residence='US', remote_ratio=0, company_location='US', company_size='M')\n",
      "Row(work_year=2024, experience_level='SE', employment_type='FT', job_title='Data Science', salary=146000, salary_currency='USD', salary_in_usd=146000, employee_residence='US', remote_ratio=0, company_location='US', company_size='M')\n",
      "Row(work_year=2024, experience_level='SE', employment_type='FT', job_title='Data Science', salary=185490, salary_currency='USD', salary_in_usd=185490, employee_residence='US', remote_ratio=0, company_location='US', company_size='M')\n",
      "Row(work_year=2024, experience_level='SE', employment_type='FT', job_title='Data Science', salary=134530, salary_currency='USD', salary_in_usd=134530, employee_residence='US', remote_ratio=0, company_location='US', company_size='M')\n",
      "Row(work_year=2024, experience_level='SE', employment_type='FT', job_title='Data Science', salary=160000, salary_currency='USD', salary_in_usd=160000, employee_residence='US', remote_ratio=100, company_location='US', company_size='M')\n",
      "Row(work_year=2024, experience_level='SE', employment_type='FT', job_title='Data Science', salary=150000, salary_currency='USD', salary_in_usd=150000, employee_residence='US', remote_ratio=100, company_location='US', company_size='M')\n",
      "Row(work_year=2024, experience_level='SE', employment_type='FT', job_title='Data Science', salary=160000, salary_currency='USD', salary_in_usd=160000, employee_residence='US', remote_ratio=100, company_location='US', company_size='M')\n",
      "Row(work_year=2024, experience_level='SE', employment_type='FT', job_title='Data Science', salary=150000, salary_currency='USD', salary_in_usd=150000, employee_residence='US', remote_ratio=100, company_location='US', company_size='M')\n",
      "Row(work_year=2024, experience_level='SE', employment_type='FT', job_title='Data Science', salary=324100, salary_currency='USD', salary_in_usd=324100, employee_residence='US', remote_ratio=0, company_location='US', company_size='L')\n",
      "Row(work_year=2024, experience_level='SE', employment_type='FT', job_title='Data Science', salary=166700, salary_currency='USD', salary_in_usd=166700, employee_residence='US', remote_ratio=0, company_location='US', company_size='L')\n",
      "Row(work_year=2024, experience_level='SE', employment_type='FT', job_title='Data Science', salary=240000, salary_currency='USD', salary_in_usd=240000, employee_residence='US', remote_ratio=0, company_location='US', company_size='M')\n",
      "Row(work_year=2024, experience_level='SE', employment_type='FT', job_title='Data Science', salary=204000, salary_currency='USD', salary_in_usd=204000, employee_residence='US', remote_ratio=0, company_location='US', company_size='M')\n",
      "Row(work_year=2024, experience_level='SE', employment_type='FT', job_title='Data Science', salary=288400, salary_currency='USD', salary_in_usd=288400, employee_residence='US', remote_ratio=0, company_location='US', company_size='M')\n",
      "Row(work_year=2024, experience_level='SE', employment_type='FT', job_title='Data Science', salary=144200, salary_currency='USD', salary_in_usd=144200, employee_residence='US', remote_ratio=0, company_location='US', company_size='M')\n",
      "Row(work_year=2024, experience_level='SE', employment_type='FT', job_title='Data Science', salary=170000, salary_currency='USD', salary_in_usd=170000, employee_residence='US', remote_ratio=0, company_location='US', company_size='M')\n",
      "Row(work_year=2024, experience_level='SE', employment_type='FT', job_title='Data Science', salary=130000, salary_currency='USD', salary_in_usd=130000, employee_residence='US', remote_ratio=0, company_location='US', company_size='M')\n",
      "Row(work_year=2024, experience_level='SE', employment_type='FT', job_title='Data Science', salary=210000, salary_currency='USD', salary_in_usd=210000, employee_residence='US', remote_ratio=0, company_location='US', company_size='M')\n",
      "Row(work_year=2024, experience_level='SE', employment_type='FT', job_title='Data Science', salary=170000, salary_currency='USD', salary_in_usd=170000, employee_residence='US', remote_ratio=0, company_location='US', company_size='M')\n",
      "Row(work_year=2024, experience_level='SE', employment_type='FT', job_title='Data Science', salary=227000, salary_currency='USD', salary_in_usd=227000, employee_residence='US', remote_ratio=0, company_location='US', company_size='M')\n",
      "Row(work_year=2024, experience_level='SE', employment_type='FT', job_title='Data Science', salary=116000, salary_currency='USD', salary_in_usd=116000, employee_residence='US', remote_ratio=0, company_location='US', company_size='M')\n",
      "Row(work_year=2024, experience_level='SE', employment_type='FT', job_title='Data Science', salary=157900, salary_currency='USD', salary_in_usd=157900, employee_residence='CA', remote_ratio=100, company_location='CA', company_size='M')\n",
      "Row(work_year=2024, experience_level='SE', employment_type='FT', job_title='Data Science', salary=105300, salary_currency='USD', salary_in_usd=105300, employee_residence='CA', remote_ratio=100, company_location='CA', company_size='M')\n",
      "Row(work_year=2024, experience_level='SE', employment_type='FT', job_title='Data Science', salary=177300, salary_currency='USD', salary_in_usd=177300, employee_residence='US', remote_ratio=0, company_location='US', company_size='M')\n",
      "Row(work_year=2024, experience_level='SE', employment_type='FT', job_title='Data Science', salary=126500, salary_currency='USD', salary_in_usd=126500, employee_residence='US', remote_ratio=0, company_location='US', company_size='M')\n",
      "Row(work_year=2024, experience_level='SE', employment_type='FT', job_title='Data Science', salary=276000, salary_currency='USD', salary_in_usd=276000, employee_residence='US', remote_ratio=0, company_location='US', company_size='M')\n",
      "Row(work_year=2024, experience_level='SE', employment_type='FT', job_title='Data Science', salary=140000, salary_currency='USD', salary_in_usd=140000, employee_residence='US', remote_ratio=0, company_location='US', company_size='M')\n",
      "Row(work_year=2024, experience_level='SE', employment_type='FT', job_title='Data Science', salary=237500, salary_currency='USD', salary_in_usd=237500, employee_residence='US', remote_ratio=0, company_location='US', company_size='M')\n",
      "Row(work_year=2024, experience_level='SE', employment_type='FT', job_title='Data Science', salary=185000, salary_currency='USD', salary_in_usd=185000, employee_residence='US', remote_ratio=0, company_location='US', company_size='M')\n",
      "Row(work_year=2024, experience_level='SE', employment_type='FT', job_title='Data Science', salary=160000, salary_currency='USD', salary_in_usd=160000, employee_residence='US', remote_ratio=100, company_location='US', company_size='M')\n",
      "Row(work_year=2024, experience_level='SE', employment_type='FT', job_title='Data Science', salary=150000, salary_currency='USD', salary_in_usd=150000, employee_residence='US', remote_ratio=100, company_location='US', company_size='M')\n",
      "Row(work_year=2024, experience_level='SE', employment_type='FT', job_title='Data Science', salary=270250, salary_currency='USD', salary_in_usd=270250, employee_residence='US', remote_ratio=0, company_location='US', company_size='M')\n",
      "Row(work_year=2024, experience_level='SE', employment_type='FT', job_title='Data Science', salary=144000, salary_currency='USD', salary_in_usd=144000, employee_residence='US', remote_ratio=0, company_location='US', company_size='M')\n",
      "Row(work_year=2024, experience_level='SE', employment_type='FT', job_title='Data Science', salary=324000, salary_currency='USD', salary_in_usd=324000, employee_residence='US', remote_ratio=100, company_location='US', company_size='M')\n",
      "Row(work_year=2024, experience_level='SE', employment_type='FT', job_title='Data Science', salary=220000, salary_currency='USD', salary_in_usd=220000, employee_residence='US', remote_ratio=100, company_location='US', company_size='M')\n",
      "Row(work_year=2024, experience_level='SE', employment_type='FT', job_title='Data Science', salary=267900, salary_currency='USD', salary_in_usd=267900, employee_residence='US', remote_ratio=0, company_location='US', company_size='M')\n",
      "Row(work_year=2024, experience_level='SE', employment_type='FT', job_title='Data Science', salary=234700, salary_currency='USD', salary_in_usd=234700, employee_residence='US', remote_ratio=0, company_location='US', company_size='M')\n",
      "Row(work_year=2024, experience_level='SE', employment_type='FT', job_title='Data Science', salary=110000, salary_currency='USD', salary_in_usd=110000, employee_residence='US', remote_ratio=0, company_location='US', company_size='M')\n",
      "Row(work_year=2024, experience_level='SE', employment_type='FT', job_title='Data Science', salary=70000, salary_currency='USD', salary_in_usd=70000, employee_residence='US', remote_ratio=0, company_location='US', company_size='M')\n",
      "Row(work_year=2024, experience_level='SE', employment_type='FT', job_title='Data Science', salary=243000, salary_currency='USD', salary_in_usd=243000, employee_residence='US', remote_ratio=0, company_location='US', company_size='M')\n",
      "Row(work_year=2024, experience_level='SE', employment_type='FT', job_title='Data Science', salary=162000, salary_currency='USD', salary_in_usd=162000, employee_residence='US', remote_ratio=0, company_location='US', company_size='M')\n",
      "Row(work_year=2024, experience_level='SE', employment_type='FT', job_title='Data Science', salary=160000, salary_currency='USD', salary_in_usd=160000, employee_residence='US', remote_ratio=100, company_location='US', company_size='M')\n",
      "Row(work_year=2024, experience_level='SE', employment_type='FT', job_title='Data Science', salary=150000, salary_currency='USD', salary_in_usd=150000, employee_residence='US', remote_ratio=100, company_location='US', company_size='M')\n",
      "Row(work_year=2024, experience_level='SE', employment_type='FT', job_title='Data Science', salary=110000, salary_currency='USD', salary_in_usd=110000, employee_residence='US', remote_ratio=0, company_location='US', company_size='M')\n",
      "Row(work_year=2024, experience_level='SE', employment_type='FT', job_title='Data Science', salary=70000, salary_currency='USD', salary_in_usd=70000, employee_residence='US', remote_ratio=0, company_location='US', company_size='M')\n",
      "Row(work_year=2024, experience_level='SE', employment_type='FT', job_title='Data Science', salary=179000, salary_currency='USD', salary_in_usd=179000, employee_residence='US', remote_ratio=0, company_location='US', company_size='M')\n",
      "Row(work_year=2024, experience_level='SE', employment_type='FT', job_title='Data Science', salary=112000, salary_currency='USD', salary_in_usd=112000, employee_residence='US', remote_ratio=0, company_location='US', company_size='M')\n",
      "Row(work_year=2024, experience_level='SE', employment_type='FT', job_title='Data Science', salary=258720, salary_currency='USD', salary_in_usd=258720, employee_residence='US', remote_ratio=0, company_location='US', company_size='M')\n",
      "Row(work_year=2024, experience_level='SE', employment_type='FT', job_title='Data Science', salary=160000, salary_currency='USD', salary_in_usd=160000, employee_residence='US', remote_ratio=0, company_location='US', company_size='M')\n",
      "Row(work_year=2024, experience_level='SE', employment_type='FT', job_title='Data Science', salary=261050, salary_currency='USD', salary_in_usd=261050, employee_residence='US', remote_ratio=0, company_location='US', company_size='M')\n",
      "Row(work_year=2024, experience_level='SE', employment_type='FT', job_title='Data Science', salary=187000, salary_currency='USD', salary_in_usd=187000, employee_residence='US', remote_ratio=0, company_location='US', company_size='M')\n",
      "Row(work_year=2024, experience_level='SE', employment_type='FT', job_title='Data Science', salary=138000, salary_currency='USD', salary_in_usd=138000, employee_residence='US', remote_ratio=0, company_location='US', company_size='M')\n",
      "Row(work_year=2024, experience_level='SE', employment_type='FT', job_title='Data Science', salary=86000, salary_currency='USD', salary_in_usd=86000, employee_residence='US', remote_ratio=0, company_location='US', company_size='M')\n",
      "Row(work_year=2024, experience_level='SE', employment_type='FT', job_title='Data Science', salary=152000, salary_currency='USD', salary_in_usd=152000, employee_residence='US', remote_ratio=0, company_location='US', company_size='M')\n",
      "Row(work_year=2024, experience_level='SE', employment_type='FT', job_title='Data Science', salary=133200, salary_currency='USD', salary_in_usd=133200, employee_residence='US', remote_ratio=0, company_location='US', company_size='M')\n",
      "Row(work_year=2024, experience_level='SE', employment_type='FT', job_title='Data Science', salary=111800, salary_currency='USD', salary_in_usd=111800, employee_residence='US', remote_ratio=0, company_location='US', company_size='M')\n",
      "Row(work_year=2024, experience_level='SE', employment_type='FT', job_title='Data Science', salary=68195, salary_currency='USD', salary_in_usd=68195, employee_residence='US', remote_ratio=0, company_location='US', company_size='M')\n",
      "Row(work_year=2024, experience_level='SE', employment_type='FT', job_title='Data Science', salary=237200, salary_currency='USD', salary_in_usd=237200, employee_residence='US', remote_ratio=0, company_location='US', company_size='M')\n",
      "Row(work_year=2024, experience_level='SE', employment_type='FT', job_title='Data Science', salary=172500, salary_currency='USD', salary_in_usd=172500, employee_residence='US', remote_ratio=0, company_location='US', company_size='M')\n",
      "Row(work_year=2023, experience_level='SE', employment_type='FT', job_title='Data Science', salary=142300, salary_currency='USD', salary_in_usd=142300, employee_residence='US', remote_ratio=0, company_location='US', company_size='M')\n",
      "Row(work_year=2023, experience_level='SE', employment_type='FT', job_title='Data Science', salary=71200, salary_currency='USD', salary_in_usd=71200, employee_residence='US', remote_ratio=0, company_location='US', company_size='M')\n",
      "Row(work_year=2023, experience_level='SE', employment_type='FT', job_title='Data Science', salary=230000, salary_currency='USD', salary_in_usd=230000, employee_residence='US', remote_ratio=100, company_location='US', company_size='M')\n",
      "Row(work_year=2023, experience_level='SE', employment_type='FT', job_title='Data Science', salary=115000, salary_currency='USD', salary_in_usd=115000, employee_residence='US', remote_ratio=100, company_location='US', company_size='M')\n",
      "Row(work_year=2023, experience_level='SE', employment_type='FT', job_title='Data Science', salary=176875, salary_currency='USD', salary_in_usd=176875, employee_residence='US', remote_ratio=0, company_location='US', company_size='M')\n",
      "Row(work_year=2023, experience_level='SE', employment_type='FT', job_title='Data Science', salary=84750, salary_currency='USD', salary_in_usd=84750, employee_residence='US', remote_ratio=0, company_location='US', company_size='M')\n",
      "Row(work_year=2023, experience_level='SE', employment_type='FT', job_title='Data Science', salary=270250, salary_currency='USD', salary_in_usd=270250, employee_residence='US', remote_ratio=0, company_location='US', company_size='M')\n",
      "Row(work_year=2023, experience_level='SE', employment_type='FT', job_title='Data Science', salary=144000, salary_currency='USD', salary_in_usd=144000, employee_residence='US', remote_ratio=0, company_location='US', company_size='M')\n",
      "Row(work_year=2023, experience_level='SE', employment_type='FT', job_title='Data Science', salary=137300, salary_currency='USD', salary_in_usd=137300, employee_residence='US', remote_ratio=0, company_location='US', company_size='M')\n",
      "Row(work_year=2023, experience_level='SE', employment_type='FT', job_title='Data Science', salary=59200, salary_currency='USD', salary_in_usd=59200, employee_residence='US', remote_ratio=0, company_location='US', company_size='M')\n",
      "Row(work_year=2023, experience_level='SE', employment_type='FT', job_title='Data Science', salary=160000, salary_currency='USD', salary_in_usd=160000, employee_residence='US', remote_ratio=100, company_location='US', company_size='M')\n",
      "Row(work_year=2023, experience_level='SE', employment_type='FT', job_title='Data Science', salary=150000, salary_currency='USD', salary_in_usd=150000, employee_residence='US', remote_ratio=100, company_location='US', company_size='M')\n",
      "Row(work_year=2023, experience_level='SE', employment_type='FT', job_title='Data Science', salary=145000, salary_currency='USD', salary_in_usd=145000, employee_residence='US', remote_ratio=0, company_location='US', company_size='M')\n",
      "Row(work_year=2023, experience_level='SE', employment_type='FT', job_title='Data Science', salary=115000, salary_currency='USD', salary_in_usd=115000, employee_residence='US', remote_ratio=0, company_location='US', company_size='M')\n",
      "Row(work_year=2023, experience_level='SE', employment_type='FT', job_title='Data Science', salary=110000, salary_currency='USD', salary_in_usd=110000, employee_residence='US', remote_ratio=0, company_location='US', company_size='M')\n",
      "Row(work_year=2023, experience_level='SE', employment_type='FT', job_title='Data Science', salary=70000, salary_currency='USD', salary_in_usd=70000, employee_residence='US', remote_ratio=0, company_location='US', company_size='M')\n",
      "Row(work_year=2023, experience_level='SE', employment_type='FT', job_title='Data Science', salary=245000, salary_currency='USD', salary_in_usd=245000, employee_residence='US', remote_ratio=0, company_location='US', company_size='M')\n",
      "Row(work_year=2023, experience_level='SE', employment_type='FT', job_title='Data Science', salary=185000, salary_currency='USD', salary_in_usd=185000, employee_residence='US', remote_ratio=0, company_location='US', company_size='M')\n",
      "Row(work_year=2023, experience_level='SE', employment_type='FT', job_title='Data Science', salary=207900, salary_currency='USD', salary_in_usd=207900, employee_residence='US', remote_ratio=0, company_location='US', company_size='M')\n",
      "Row(work_year=2023, experience_level='SE', employment_type='FT', job_title='Data Science', salary=158400, salary_currency='USD', salary_in_usd=158400, employee_residence='US', remote_ratio=0, company_location='US', company_size='M')\n",
      "Row(work_year=2023, experience_level='SE', employment_type='FT', job_title='Data Science', salary=138000, salary_currency='USD', salary_in_usd=138000, employee_residence='US', remote_ratio=0, company_location='US', company_size='M')\n",
      "Row(work_year=2023, experience_level='SE', employment_type='FT', job_title='Data Science', salary=86000, salary_currency='USD', salary_in_usd=86000, employee_residence='US', remote_ratio=0, company_location='US', company_size='M')\n",
      "Row(work_year=2023, experience_level='SE', employment_type='FT', job_title='Data Science', salary=135800, salary_currency='USD', salary_in_usd=135800, employee_residence='US', remote_ratio=100, company_location='US', company_size='M')\n",
      "Row(work_year=2023, experience_level='SE', employment_type='FT', job_title='Data Science', salary=95100, salary_currency='USD', salary_in_usd=95100, employee_residence='US', remote_ratio=100, company_location='US', company_size='M')\n",
      "Row(work_year=2023, experience_level='SE', employment_type='FT', job_title='Data Science', salary=135800, salary_currency='USD', salary_in_usd=135800, employee_residence='US', remote_ratio=100, company_location='US', company_size='M')\n",
      "Row(work_year=2023, experience_level='SE', employment_type='FT', job_title='Data Science', salary=95100, salary_currency='USD', salary_in_usd=95100, employee_residence='US', remote_ratio=100, company_location='US', company_size='M')\n"
     ]
    },
    {
     "name": "stderr",
     "output_type": "stream",
     "text": [
      "                                                                                \r"
     ]
    }
   ],
   "execution_count": 55
  },
  {
   "cell_type": "markdown",
   "id": "9a2ceb8c",
   "metadata": {},
   "source": [
    "#### Task 13:\n",
    "Calculate the total `salary` paid by `large` companies by filtering and aggregating salary data in an RDD using Apache Spark."
   ]
  },
  {
   "cell_type": "code",
   "id": "98f943d3",
   "metadata": {
    "ExecuteTime": {
     "end_time": "2024-06-03T14:14:48.061246Z",
     "start_time": "2024-06-03T14:14:47.209662Z"
    }
   },
   "source": [
    "# to do\n",
    "\n",
    "# Filter the RDD for records belonging to large companies\n",
    "filtered_rdd = salaries_rdd.filter(lambda row: row['company_size'] == 'L')\n",
    "\n",
    "# Extract the salary values from the filtered RDD\n",
    "salary_rdd = filtered_rdd.map(lambda row: row['salary'])\n",
    "\n",
    "# Aggregate the total salary using the reduce method\n",
    "total_salary = salary_rdd.reduce(lambda x, y: x + y)\n",
    "\n",
    "# Print the total salary\n",
    "print(f\"Total salary paid by large companies: {total_salary}\")"
   ],
   "outputs": [
    {
     "name": "stdout",
     "output_type": "stream",
     "text": [
      "Total salary paid by large companies: 320740143\n"
     ]
    },
    {
     "name": "stderr",
     "output_type": "stream",
     "text": [
      "                                                                                \r"
     ]
    }
   ],
   "execution_count": 56
  },
  {
   "cell_type": "markdown",
   "id": "58a46e53",
   "metadata": {},
   "source": [
    "#### Task 14:\n",
    "Filter and display the top five highest-paying fully remote job titles based on salary."
   ]
  },
  {
   "cell_type": "code",
   "id": "f537ae7e",
   "metadata": {
    "ExecuteTime": {
     "end_time": "2024-06-03T14:22:05.150296Z",
     "start_time": "2024-06-03T14:22:02.489679Z"
    }
   },
   "source": [
    "# to do\n",
    "\n",
    "# Filter the RDD for fully remote jobs\n",
    "remote_rdd = salaries_rdd.filter(lambda row: row['remote_ratio'] == 100)\n",
    "\n",
    "# Sort the filtered RDD by salary in descending order\n",
    "sorted_remote_rdd = remote_rdd.sortBy(lambda row: row['salary'], ascending=False)\n",
    "\n",
    "# Take the top five highest-paying job titles\n",
    "top_five_remote_jobs = sorted_remote_rdd.take(5)\n",
    "\n",
    "# Display the result\n",
    "for record in top_five_remote_jobs:\n",
    "    print(f\"Job Title: {record['job_title']}, Salary: {record['salary']}\")"
   ],
   "outputs": [
    {
     "name": "stderr",
     "output_type": "stream",
     "text": [
      "[Stage 57:=============================>                            (4 + 4) / 8]\r"
     ]
    },
    {
     "name": "stdout",
     "output_type": "stream",
     "text": [
      "Job Title: Data Scientist, Salary: 30400000\n",
      "Job Title: Data Scientist, Salary: 6600000\n",
      "Job Title: Data Engineer, Salary: 4450000\n",
      "Job Title: Data Scientist, Salary: 4200000\n",
      "Job Title: Data Scientist, Salary: 4000000\n"
     ]
    },
    {
     "name": "stderr",
     "output_type": "stream",
     "text": [
      "                                                                                \r"
     ]
    }
   ],
   "execution_count": 59
  },
  {
   "cell_type": "markdown",
   "id": "ed423bee",
   "metadata": {},
   "source": [
    "##  Create a Pandas UDF\n",
    "Apache Spark has become the de-facto standard in processing big data. To enable data scientists to leverage the value of big data, Spark added a Python API in version 0.7, with support for user-defined functions (UDF). These user-defined functions operate one-row-at-a-time, and thus suffer from high serialization and invocation overhead. As a result, many data pipelines define UDFs in Java and Scala and then invoke them from Python.\n",
    "\n",
    "Pandas UDFs built on top of Apache Arrow bring you the ability to define low-overhead, high-performance UDFs entirely in Python.\n",
    "\n",
    "In addition, UDFs can be registered and invoked in SQL out of the box by registering a regular python function using the `@pandas_udf()` decorator.  \n",
    "\n",
    "[pyspark.sql.functions.udf](https://spark.apache.org/docs/3.1.3/api/python/reference/api/pyspark.sql.functions.udf.html)\n",
    "\n",
    "[pyspark.sql.DataFrame.withColumn](https://spark.apache.org/docs/3.1.3/api/python/reference/api/pyspark.sql.DataFrame.withColumn.html)\n"
   ]
  },
  {
   "cell_type": "markdown",
   "id": "58091247",
   "metadata": {},
   "source": [
    "#### Task15:\n",
    "Implement a Pandas UDF in PySpark named `categorize_salary` that accepts a pandas Series containing salaries and categorizes each salary into \"Low\" (less than $50,000), \"Medium\" ($50,000 to $149,999), or \"High\" ($150,000 and above) by returning a new Series with these categories."
   ]
  },
  {
   "cell_type": "code",
   "id": "4d8570eb",
   "metadata": {
    "ExecuteTime": {
     "end_time": "2024-06-03T14:39:50.599800Z",
     "start_time": "2024-06-03T14:39:49.096474Z"
    }
   },
   "source": [
    "# to do\n",
    "# Define categorize_salary Pandas UDF\n",
    "@pandas_udf(StringType())\n",
    "def categorize_salary(salary_series: pd.Series) -> pd.Series:\n",
    "    categories = []\n",
    "    for salary in salary_series:\n",
    "        if salary < 50000:\n",
    "            categories.append(\"Low\")\n",
    "        elif 50000 <= salary <= 149999:\n",
    "            categories.append(\"Medium\")\n",
    "        else:\n",
    "            categories.append(\"High\")\n",
    "    return pd.Series(categories)\n",
    "\n",
    "# Apply categorize_salary Pandas UDF to the DataFrame\n",
    "categorized_df = salaries_df.withColumn(\"salary_category\", categorize_salary(salaries_df[\"salary\"]))\n",
    "\n",
    "# Show the result\n",
    "categorized_df.show()"
   ],
   "outputs": [
    {
     "name": "stderr",
     "output_type": "stream",
     "text": [
      "[Stage 59:>                                                         (0 + 1) / 1]\r"
     ]
    },
    {
     "name": "stdout",
     "output_type": "stream",
     "text": [
      "+---------+----------------+---------------+--------------------+------+---------------+-------------+------------------+------------+----------------+------------+---------------+\n",
      "|work_year|experience_level|employment_type|           job_title|salary|salary_currency|salary_in_usd|employee_residence|remote_ratio|company_location|company_size|salary_category|\n",
      "+---------+----------------+---------------+--------------------+------+---------------+-------------+------------------+------------+----------------+------------+---------------+\n",
      "|     2024|              SE|             FT|         AI Engineer|202730|            USD|       202730|                US|           0|              US|           M|           High|\n",
      "|     2024|              SE|             FT|         AI Engineer| 92118|            USD|        92118|                US|           0|              US|           M|         Medium|\n",
      "|     2024|              SE|             FT|       Data Engineer|130500|            USD|       130500|                US|           0|              US|           M|         Medium|\n",
      "|     2024|              SE|             FT|       Data Engineer| 96000|            USD|        96000|                US|           0|              US|           M|         Medium|\n",
      "|     2024|              SE|             FT|Machine Learning ...|190000|            USD|       190000|                US|           0|              US|           M|           High|\n",
      "|     2024|              SE|             FT|Machine Learning ...|160000|            USD|       160000|                US|           0|              US|           M|           High|\n",
      "|     2024|              MI|             FT|         ML Engineer|400000|            USD|       400000|                US|           0|              US|           M|           High|\n",
      "|     2024|              MI|             FT|         ML Engineer| 65000|            USD|        65000|                US|           0|              US|           M|         Medium|\n",
      "|     2024|              EN|             FT|        Data Analyst|101520|            USD|       101520|                US|           0|              US|           M|         Medium|\n",
      "|     2024|              EN|             FT|        Data Analyst| 45864|            USD|        45864|                US|           0|              US|           M|            Low|\n",
      "|     2024|              SE|             FT|       Data Engineer|172469|            USD|       172469|                US|           0|              US|           M|           High|\n",
      "|     2024|              SE|             FT|       Data Engineer|114945|            USD|       114945|                US|           0|              US|           M|         Medium|\n",
      "|     2024|              EX|             FT|        NLP Engineer|200000|            USD|       200000|                US|           0|              US|           M|           High|\n",
      "|     2024|              EX|             FT|        NLP Engineer|150000|            USD|       150000|                US|           0|              US|           M|           High|\n",
      "|     2024|              MI|             FT|      Data Scientist|156450|            USD|       156450|                US|         100|              US|           M|           High|\n",
      "|     2024|              MI|             FT|      Data Scientist|119200|            USD|       119200|                US|         100|              US|           M|         Medium|\n",
      "|     2024|              SE|             FT|        Data Analyst|170000|            USD|       170000|                US|           0|              US|           M|           High|\n",
      "|     2024|              SE|             FT|        Data Analyst|130000|            USD|       130000|                US|           0|              US|           M|         Medium|\n",
      "|     2024|              SE|             FT|   Applied Scientist|222200|            USD|       222200|                US|           0|              US|           L|           High|\n",
      "|     2024|              SE|             FT|   Applied Scientist|136000|            USD|       136000|                US|           0|              US|           L|         Medium|\n",
      "+---------+----------------+---------------+--------------------+------+---------------+-------------+------------------+------------+----------------+------------+---------------+\n",
      "only showing top 20 rows\n",
      "\n"
     ]
    },
    {
     "name": "stderr",
     "output_type": "stream",
     "text": [
      "                                                                                \r"
     ]
    }
   ],
   "execution_count": 60
  },
  {
   "cell_type": "markdown",
   "id": "d4c486ba",
   "metadata": {},
   "source": [
    "#### Task 16:\n",
    "Integrate the `categorize_salary` UDF into a PySpark DataFrame by adding a new column salary_category which classifies each salary. Subsequently, display the original salary and its corresponding category to verify the successful application of the UDF."
   ]
  },
  {
   "cell_type": "code",
   "id": "e1416621",
   "metadata": {
    "ExecuteTime": {
     "end_time": "2024-06-03T14:41:28.034954Z",
     "start_time": "2024-06-03T14:41:27.131459Z"
    }
   },
   "source": [
    "# to do\n",
    "# Apply categorize_salary Pandas UDF to add a new column salary_category\n",
    "categorized_df = salaries_df.withColumn(\"salary_category\", categorize_salary(salaries_df[\"salary\"]))\n",
    "\n",
    "# Display the original salary and its corresponding category\n",
    "categorized_df.select(\"salary\", \"salary_category\").show()"
   ],
   "outputs": [
    {
     "name": "stdout",
     "output_type": "stream",
     "text": [
      "+------+---------------+\n",
      "|salary|salary_category|\n",
      "+------+---------------+\n",
      "|202730|           High|\n",
      "| 92118|         Medium|\n",
      "|130500|         Medium|\n",
      "| 96000|         Medium|\n",
      "|190000|           High|\n",
      "|160000|           High|\n",
      "|400000|           High|\n",
      "| 65000|         Medium|\n",
      "|101520|         Medium|\n",
      "| 45864|            Low|\n",
      "|172469|           High|\n",
      "|114945|         Medium|\n",
      "|200000|           High|\n",
      "|150000|           High|\n",
      "|156450|           High|\n",
      "|119200|         Medium|\n",
      "|170000|           High|\n",
      "|130000|         Medium|\n",
      "|222200|           High|\n",
      "|136000|         Medium|\n",
      "+------+---------------+\n",
      "only showing top 20 rows\n",
      "\n"
     ]
    },
    {
     "name": "stderr",
     "output_type": "stream",
     "text": [
      "                                                                                \r"
     ]
    }
   ],
   "execution_count": 61
  },
  {
   "cell_type": "code",
   "id": "9268c3c7",
   "metadata": {
    "ExecuteTime": {
     "end_time": "2024-06-03T14:57:52.002782Z",
     "start_time": "2024-06-03T14:57:51.695425Z"
    }
   },
   "source": [
    "spark.stop()"
   ],
   "outputs": [],
   "execution_count": 62
  },
  {
   "cell_type": "markdown",
   "id": "b8b95b5b",
   "metadata": {},
   "source": [
    "## Authors\n",
    "[Mohammad Rahmanian](https://github.com/Mohammad-Rahmanian)"
   ]
  },
  {
   "cell_type": "markdown",
   "id": "fff720b9",
   "metadata": {},
   "source": [
    "### Other Contributors\n",
    "[Mohammad Sadegh Mohammadi](https://github.com/sadegh-msm)"
   ]
  },
  {
   "metadata": {},
   "cell_type": "code",
   "outputs": [],
   "execution_count": null,
   "source": "",
   "id": "36849dee57b75d34"
  }
 ],
 "metadata": {
  "kernelspec": {
   "display_name": "Python 3 (ipykernel)",
   "language": "python",
   "name": "python3"
  },
  "language_info": {
   "codemirror_mode": {
    "name": "ipython",
    "version": 3
   },
   "file_extension": ".py",
   "mimetype": "text/x-python",
   "name": "python",
   "nbconvert_exporter": "python",
   "pygments_lexer": "ipython3",
   "version": "3.9.2"
  }
 },
 "nbformat": 4,
 "nbformat_minor": 5
}
